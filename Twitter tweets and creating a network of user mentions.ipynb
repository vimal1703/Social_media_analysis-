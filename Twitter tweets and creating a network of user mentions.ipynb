{
 "cells": [
  {
   "cell_type": "markdown",
   "metadata": {},
   "source": [
    "# Real time crawling of tweets from Twitter and creating a network of user mentions"
   ]
  },
  {
   "cell_type": "markdown",
   "metadata": {},
   "source": [
    "### Step 1: Install and import tweepy library"
   ]
  },
  {
   "cell_type": "code",
   "execution_count": 1,
   "metadata": {},
   "outputs": [],
   "source": [
    "import os\n",
    "import tweepy as tw\n",
    "import pandas as pd"
   ]
  },
  {
   "cell_type": "markdown",
   "metadata": {},
   "source": [
    "### Step 2: Sign up your twitter developer account and obtain the following credentials (https://developer.twitter.com/en)"
   ]
  },
  {
   "cell_type": "code",
   "execution_count": 2,
   "metadata": {},
   "outputs": [],
   "source": [
    "consumer_key= 'oT4yaDlrCtM8PccDnTOthwVhT'\n",
    "consumer_secret= 'QfRyF7kRd7eoLQMEm9899rXAuJm8iI7VRsoRaqGx1ZkynpyRzv'\n",
    "access_token= '1347484634452434944-dN0cnvWOyBMSF2FcTQlobR8liYPm36'\n",
    "access_token_secret= 'g55tSqXi2JmzUFPH4PdoFT3Ugc6LBOMlmITDVIfN9wG1K'"
   ]
  },
  {
   "cell_type": "markdown",
   "metadata": {},
   "source": [
    "### Step 3: Using the above credentials get yourself authorized to stream real time tweets using the code snippet below"
   ]
  },
  {
   "cell_type": "code",
   "execution_count": 3,
   "metadata": {},
   "outputs": [],
   "source": [
    "auth = tw.OAuthHandler(consumer_key, consumer_secret)\n",
    "auth.set_access_token(access_token, access_token_secret)\n",
    "api = tw.API(auth,wait_on_rate_limit=True)"
   ]
  },
  {
   "cell_type": "code",
   "execution_count": 4,
   "metadata": {},
   "outputs": [],
   "source": [
    "search_terms = \"#covid19 -in:retweets\""
   ]
  },
  {
   "cell_type": "code",
   "execution_count": 5,
   "metadata": {},
   "outputs": [],
   "source": [
    "MY_BEARER_TOKEN = 'AAAAAAAAAAAAAAAAAAAAADnTfAEAAAAAYn8fJiFqzrTbKDOo0km%2F6A6XjbU%3DlcmeNBkEhVX8AMRNKA1OlHdC44sB90DrLsgvqMDH0pfVELwsyH'\n",
    "\n",
    "client = tw.Client(bearer_token=MY_BEARER_TOKEN)"
   ]
  },
  {
   "cell_type": "code",
   "execution_count": 6,
   "metadata": {},
   "outputs": [],
   "source": [
    "search_query = \"#covid19 -in:retweets\""
   ]
  },
  {
   "cell_type": "code",
   "execution_count": 8,
   "metadata": {},
   "outputs": [],
   "source": [
    "# query to search for tweets\n",
    "query = \"#covid19 \"\n",
    "\n",
    "# get tweets from the API\n",
    "tweets = client.search_recent_tweets(query=query,\n",
    "                                    \n",
    "                                     tweet_fields = [\"created_at\", \"text\", \"source\"],\n",
    "                                     user_fields = [\"name\", \"username\", \"location\", \"verified\", \"description\"],\n",
    "                                     max_results = 10,\n",
    "                                     expansions='author_id'\n",
    "                                     )"
   ]
  },
  {
   "cell_type": "code",
   "execution_count": 9,
   "metadata": {},
   "outputs": [
    {
     "data": {
      "text/plain": [
       "Response(data=[<Tweet id=1587658959904989184 text='¡Together And United, VS The Coronavirus #Covid19 To The End! 😉👍\\n\\n#TheLegendOfTheNahuala\\n\\n#LeoSanJuan\\n\\n#Puebla\\n\\n#Mexico 🇲🇽\\n\\n#DiaDeMuertos \\n\\n#VivaMéxico\\n\\n¡International Animated Feature Film Of My Country #Mexico 🇲🇽!\\n\\n@TheAcademy\\n\\n@CocaCola\\n\\n#Oscars\\n\\n🎬⭐'>, <Tweet id=1587658957094588417 text='$DYAI #COVID19 https://t.co/uP8AqasOB1'>, <Tweet id=1587658957061263360 text='RT @delcyrodriguezv: 4/4 Garantizar la protección a la salud de los venezolan@s es prioridad del Pdte. @NicolasMaduro. Ratificamos que la v…'>, <Tweet id=1587658947250589697 text='RT @keetmuise: We have to learn to live with terrorists, they will get us all eventually anyway. \\n\\nRallying call if 9/11 happened in Januar…'>, <Tweet id=1587658925003915266 text='RT @jewels4meee: 🧵Ever since #Pfizer’s executive recently &amp; infamously claimed the #vaccine maker never tested its shots for efficacy at pr…'>, <Tweet id=1587658924655669249 text='RT @HLGatell: En temporada de frío es común que se presenten virus respiratorios, por lo que no debemos angustiarnos pensando que se trata…'>, <Tweet id=1587658922357362689 text='#TheMoreYouKnow \\n#UkraineWar\\n#Ukraine️\\n#TruthAtAllCosts \\n#Truth \\n#TruthSocial \\n#Truthhurts\\n#FactsMatter \\n#factsoverfeelings\\n#MarthasVineyard\\n#COVID19 \\n#AMERICAFIRST\\n#StrongerTogether https://t.co/NxvqnVPIoY'>, <Tweet id=1587658902145216512 text='#airquality (proxy for #COVID19 density) readings in large lifestyle standalone warehouse shop, low ppl density, ~25% masks (despite shop requirement), storm⛈ after MelbourneCup: CO2 &amp; risk from #COVIDisAirborne low. Layout? #ventilation? Filters? @IKEA_Aus\\n#COVID19Aus #Canberra https://t.co/KkTJPOAg1s'>, <Tweet id=1587658869261467650 text='This is why they get no amnesty from us. Give them a pass and they’ll do it again. And that’s not a “maybe they’ll do it again,” that’s a guarantee. Accountability and harsh punishments for those involved, it’s the only way. #COVID19 #BigPharma #CrimesAgainstHumanity https://t.co/vbslJu8Vir'>, <Tweet id=1587658848227270658 text='RT @picardonhealth: As #Tuberculosis Burden Increases Due To #COVID19, @WHO Calls For Urgent Action, by @paimadhu  https://t.co/f4vXPOahY7…'>], includes={'users': [<User id=3166948095 name=Fernando Ortíz Fabián username=ferspeed2609>, <User id=1490343153886507008 name=Dividend Fella 👓💰 username=dividendfella>, <User id=1587539966158147590 name=gutierrez username=guti8842663>, <User id=1310289087702630447 name=Patent Masks Research & Development username=PatentMasks>, <User id=246555102 name=Xitlaly username=xzugarazo>, <User id=20422178 name=❤️‍🔥𝓠𝓾𝓲𝓷𝓷𝔃𝓮𝓵𝓵𝓮𝓻𝓮𝓵𝓵 💓 username=Bizarro001>, <User id=2417150558 name=Gillian King STAY SAFE: 😷 1.5m 💉x3 WASH HANDS💧 username=GillKing01>, <User id=1540963443791933440 name=MayoMonkeyVirus username=MayoMonkeyVirus>, <User id=50259604 name=mom_2k_and_p username=mom2_k_and_p>]}, errors=[], meta={'newest_id': '1587658959904989184', 'oldest_id': '1587658848227270658', 'result_count': 10, 'next_token': 'b26v89c19zqg8o3fpzeme6lm6c842k1xhui8znnud53zx'})"
      ]
     },
     "execution_count": 9,
     "metadata": {},
     "output_type": "execute_result"
    }
   ],
   "source": [
    "tweets"
   ]
  },
  {
   "cell_type": "markdown",
   "metadata": {},
   "source": [
    "### Step 4: Using the API object search tweets of your interest using a particular hashtag"
   ]
  },
  {
   "cell_type": "code",
   "execution_count": 10,
   "metadata": {},
   "outputs": [
    {
     "data": {
      "text/html": [
       "<div>\n",
       "<style scoped>\n",
       "    .dataframe tbody tr th:only-of-type {\n",
       "        vertical-align: middle;\n",
       "    }\n",
       "\n",
       "    .dataframe tbody tr th {\n",
       "        vertical-align: top;\n",
       "    }\n",
       "\n",
       "    .dataframe thead th {\n",
       "        text-align: right;\n",
       "    }\n",
       "</style>\n",
       "<table border=\"1\" class=\"dataframe\">\n",
       "  <thead>\n",
       "    <tr style=\"text-align: right;\">\n",
       "      <th></th>\n",
       "      <th>created_at</th>\n",
       "      <th>text</th>\n",
       "      <th>source</th>\n",
       "      <th>name</th>\n",
       "      <th>username</th>\n",
       "      <th>location</th>\n",
       "      <th>verified</th>\n",
       "      <th>description</th>\n",
       "    </tr>\n",
       "  </thead>\n",
       "  <tbody>\n",
       "    <tr>\n",
       "      <th>0</th>\n",
       "      <td>2022-11-02 04:12:47+00:00</td>\n",
       "      <td>¡Together And United, VS The Coronavirus #Covi...</td>\n",
       "      <td>Twitter for Android</td>\n",
       "      <td>Fernando Ortíz Fabián</td>\n",
       "      <td>ferspeed2609</td>\n",
       "      <td>None</td>\n",
       "      <td>False</td>\n",
       "      <td>Naci El 26 De Septiembre De 1997 En Un Hospita...</td>\n",
       "    </tr>\n",
       "    <tr>\n",
       "      <th>1</th>\n",
       "      <td>2022-11-02 04:12:47+00:00</td>\n",
       "      <td>$DYAI #COVID19 https://t.co/uP8AqasOB1</td>\n",
       "      <td>Twitter for iPhone</td>\n",
       "      <td>Dividend Fella 👓💰</td>\n",
       "      <td>dividendfella</td>\n",
       "      <td>None</td>\n",
       "      <td>False</td>\n",
       "      <td>Building an Inflation-Proof Dividend Portfolio...</td>\n",
       "    </tr>\n",
       "    <tr>\n",
       "      <th>2</th>\n",
       "      <td>2022-11-02 04:12:47+00:00</td>\n",
       "      <td>RT @delcyrodriguezv: 4/4 Garantizar la protecc...</td>\n",
       "      <td>Twitter for Android</td>\n",
       "      <td>gutierrez</td>\n",
       "      <td>guti8842663</td>\n",
       "      <td>Venezuela</td>\n",
       "      <td>False</td>\n",
       "      <td>Viva chavez</td>\n",
       "    </tr>\n",
       "    <tr>\n",
       "      <th>3</th>\n",
       "      <td>2022-11-02 04:12:44+00:00</td>\n",
       "      <td>RT @keetmuise: We have to learn to live with t...</td>\n",
       "      <td>Twitter</td>\n",
       "      <td>Patent Masks Research &amp; Development</td>\n",
       "      <td>PatentMasks</td>\n",
       "      <td>London, United Kingdom</td>\n",
       "      <td>False</td>\n",
       "      <td>We are currently focusing on producing and man...</td>\n",
       "    </tr>\n",
       "    <tr>\n",
       "      <th>4</th>\n",
       "      <td>2022-11-02 04:12:39+00:00</td>\n",
       "      <td>RT @jewels4meee: 🧵Ever since #Pfizer’s executi...</td>\n",
       "      <td>Twitter</td>\n",
       "      <td>Xitlaly</td>\n",
       "      <td>xzugarazo</td>\n",
       "      <td>México Distrito Federal</td>\n",
       "      <td>False</td>\n",
       "      <td></td>\n",
       "    </tr>\n",
       "  </tbody>\n",
       "</table>\n",
       "</div>"
      ],
      "text/plain": [
       "                 created_at  \\\n",
       "0 2022-11-02 04:12:47+00:00   \n",
       "1 2022-11-02 04:12:47+00:00   \n",
       "2 2022-11-02 04:12:47+00:00   \n",
       "3 2022-11-02 04:12:44+00:00   \n",
       "4 2022-11-02 04:12:39+00:00   \n",
       "\n",
       "                                                text               source  \\\n",
       "0  ¡Together And United, VS The Coronavirus #Covi...  Twitter for Android   \n",
       "1             $DYAI #COVID19 https://t.co/uP8AqasOB1   Twitter for iPhone   \n",
       "2  RT @delcyrodriguezv: 4/4 Garantizar la protecc...  Twitter for Android   \n",
       "3  RT @keetmuise: We have to learn to live with t...              Twitter   \n",
       "4  RT @jewels4meee: 🧵Ever since #Pfizer’s executi...              Twitter   \n",
       "\n",
       "                                  name       username  \\\n",
       "0                Fernando Ortíz Fabián   ferspeed2609   \n",
       "1                    Dividend Fella 👓💰  dividendfella   \n",
       "2                            gutierrez    guti8842663   \n",
       "3  Patent Masks Research & Development    PatentMasks   \n",
       "4                              Xitlaly      xzugarazo   \n",
       "\n",
       "                  location  verified  \\\n",
       "0                     None     False   \n",
       "1                     None     False   \n",
       "2                Venezuela     False   \n",
       "3   London, United Kingdom     False   \n",
       "4  México Distrito Federal     False   \n",
       "\n",
       "                                         description  \n",
       "0  Naci El 26 De Septiembre De 1997 En Un Hospita...  \n",
       "1  Building an Inflation-Proof Dividend Portfolio...  \n",
       "2                                        Viva chavez  \n",
       "3  We are currently focusing on producing and man...  \n",
       "4                                                     "
      ]
     },
     "execution_count": 10,
     "metadata": {},
     "output_type": "execute_result"
    }
   ],
   "source": [
    "# import the pandas library\n",
    "import pandas as pd\n",
    "\n",
    "# create a list of records\n",
    "tweet_info_ls = []\n",
    "\n",
    "# iterate over each tweet and corresponding user details\n",
    "for tweet, user in zip(tweets.data, tweets.includes['users']):\n",
    "    tweet_info = {\n",
    "        'created_at': tweet.created_at,\n",
    "        'text': tweet.text,\n",
    "        'source': tweet.source,\n",
    "        'name': user.name,\n",
    "        'username': user.username,\n",
    "        'location': user.location,\n",
    "        'verified': user.verified,\n",
    "        'description': user.description\n",
    "    }\n",
    "    tweet_info_ls.append(tweet_info)\n",
    "\n",
    "# create dataframe from the extracted records\n",
    "tweets_df = pd.DataFrame(tweet_info_ls)\n",
    "# display the dataframe\n",
    "tweets_df.head()"
   ]
  },
  {
   "cell_type": "markdown",
   "metadata": {},
   "source": [
    "### Step 6: Import the networkx package"
   ]
  },
  {
   "cell_type": "code",
   "execution_count": 11,
   "metadata": {},
   "outputs": [],
   "source": [
    "import networkx as nx"
   ]
  },
  {
   "cell_type": "markdown",
   "metadata": {},
   "source": [
    "### Step 7: First create a basic network with few nodes and edges"
   ]
  },
  {
   "cell_type": "code",
   "execution_count": 12,
   "metadata": {},
   "outputs": [
    {
     "data": {
      "text/plain": [
       "NodeView(('A', 'B'))"
      ]
     },
     "execution_count": 12,
     "metadata": {},
     "output_type": "execute_result"
    }
   ],
   "source": [
    "G= nx.Graph()\n",
    "G.add_nodes_from([\"A\",\"B\"])\n",
    "G.add_edge('A',\"B\")\n",
    "G.nodes()"
   ]
  },
  {
   "cell_type": "code",
   "execution_count": 13,
   "metadata": {},
   "outputs": [],
   "source": [
    "G.nodes['A']['Age']=21\n",
    "G.nodes['B']['Age']=22\n",
    "G.edges['A','B']['Friendship']= '2019/04/21'"
   ]
  },
  {
   "cell_type": "code",
   "execution_count": 14,
   "metadata": {},
   "outputs": [
    {
     "data": {
      "text/plain": [
       "NodeDataView({'A': {'Age': 21}, 'B': {'Age': 22}})"
      ]
     },
     "execution_count": 14,
     "metadata": {},
     "output_type": "execute_result"
    }
   ],
   "source": [
    "G.nodes(data=True)"
   ]
  },
  {
   "cell_type": "code",
   "execution_count": 15,
   "metadata": {},
   "outputs": [
    {
     "data": {
      "text/plain": [
       "EdgeView([('A', 'B'), (1, 2)])"
      ]
     },
     "execution_count": 15,
     "metadata": {},
     "output_type": "execute_result"
    }
   ],
   "source": [
    "G.add_edge(1, 2)\n",
    "G.edges()"
   ]
  },
  {
   "cell_type": "code",
   "execution_count": 16,
   "metadata": {},
   "outputs": [
    {
     "data": {
      "text/plain": [
       "EdgeDataView([('A', 'B', {'Friendship': '2019/04/21'}), (1, 2, {})])"
      ]
     },
     "execution_count": 16,
     "metadata": {},
     "output_type": "execute_result"
    }
   ],
   "source": [
    "G.edges(data= True)"
   ]
  },
  {
   "cell_type": "code",
   "execution_count": 17,
   "metadata": {},
   "outputs": [],
   "source": [
    "eg=[(1,2),(1,3),(1,4),(1,5),(1,6)]\n",
    "H=nx.Graph(eg)"
   ]
  },
  {
   "cell_type": "code",
   "execution_count": 18,
   "metadata": {},
   "outputs": [
    {
     "data": {
      "image/png": "[encoded data removed]",
      "text/plain": [
       "<Figure size 432x288 with 1 Axes>"
      ]
     },
     "metadata": {},
     "output_type": "display_data"
    }
   ],
   "source": [
    "nx.draw(H)"
   ]
  },
  {
   "cell_type": "code",
   "execution_count": null,
   "metadata": {},
   "outputs": [],
   "source": []
  }
 ],
 "metadata": {
  "kernelspec": {
   "display_name": "Python 3 (ipykernel)",
   "language": "python",
   "name": "python3"
  },
  "language_info": {
   "codemirror_mode": {
    "name": "ipython",
    "version": 3
   },
   "file_extension": ".py",
   "mimetype": "text/x-python",
   "name": "python",
   "nbconvert_exporter": "python",
   "pygments_lexer": "ipython3",
   "version": "3.9.12"
  }
 },
 "nbformat": 4,
 "nbformat_minor": 2
}
