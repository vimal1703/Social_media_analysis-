{
 "cells": [
  {
   "cell_type": "markdown",
   "id": "4a1403bb",
   "metadata": {},
   "source": [
    "# Exploring Marketing Campaign Dataset "
   ]
  },
  {
   "cell_type": "markdown",
   "id": "32b25363",
   "metadata": {
    "papermill": {
     "duration": 0.010166,
     "end_time": "2022-08-19T21:43:12.357907",
     "exception": false,
     "start_time": "2022-08-19T21:43:12.347741",
     "status": "completed"
    },
    "tags": []
   },
   "source": [
    "### Step 1: Download the dataset using this link  \n",
    "link: https://www.kaggle.com/datasets/rodsaldanha/arketing-campaign  "
   ]
  },
  {
   "cell_type": "code",
   "execution_count": 1,
   "id": "e5f4d340",
   "metadata": {
    "execution": {
     "iopub.execute_input": "2022-08-19T21:43:12.381058Z",
     "iopub.status.busy": "2022-08-19T21:43:12.380311Z",
     "iopub.status.idle": "2022-08-19T21:43:13.466157Z",
     "shell.execute_reply": "2022-08-19T21:43:13.465244Z"
    },
    "papermill": {
     "duration": 1.100442,
     "end_time": "2022-08-19T21:43:13.468827",
     "exception": false,
     "start_time": "2022-08-19T21:43:12.368385",
     "status": "completed"
    },
    "tags": []
   },
   "outputs": [],
   "source": [
    "import pandas as pd\n",
    "import numpy as np\n",
    "import matplotlib.pyplot as plt\n",
    "import seaborn as sns"
   ]
  },
  {
   "cell_type": "code",
   "execution_count": 2,
   "id": "bad8d293",
   "metadata": {
    "execution": {
     "iopub.execute_input": "2022-08-19T21:43:13.492171Z",
     "iopub.status.busy": "2022-08-19T21:43:13.491191Z",
     "iopub.status.idle": "2022-08-19T21:43:13.554856Z",
     "shell.execute_reply": "2022-08-19T21:43:13.553589Z"
    },
    "papermill": {
     "duration": 0.078511,
     "end_time": "2022-08-19T21:43:13.557943",
     "exception": false,
     "start_time": "2022-08-19T21:43:13.479432",
     "status": "completed"
    },
    "tags": []
   },
   "outputs": [
    {
     "data": {
      "text/html": [
       "<div>\n",
       "<style scoped>\n",
       "    .dataframe tbody tr th:only-of-type {\n",
       "        vertical-align: middle;\n",
       "    }\n",
       "\n",
       "    .dataframe tbody tr th {\n",
       "        vertical-align: top;\n",
       "    }\n",
       "\n",
       "    .dataframe thead th {\n",
       "        text-align: right;\n",
       "    }\n",
       "</style>\n",
       "<table border=\"1\" class=\"dataframe\">\n",
       "  <thead>\n",
       "    <tr style=\"text-align: right;\">\n",
       "      <th></th>\n",
       "      <th>ID</th>\n",
       "      <th>Year_Birth</th>\n",
       "      <th>Education</th>\n",
       "      <th>Marital_Status</th>\n",
       "      <th>Income</th>\n",
       "      <th>Kidhome</th>\n",
       "      <th>Teenhome</th>\n",
       "      <th>Dt_Customer</th>\n",
       "      <th>Recency</th>\n",
       "      <th>MntWines</th>\n",
       "      <th>...</th>\n",
       "      <th>NumWebVisitsMonth</th>\n",
       "      <th>AcceptedCmp3</th>\n",
       "      <th>AcceptedCmp4</th>\n",
       "      <th>AcceptedCmp5</th>\n",
       "      <th>AcceptedCmp1</th>\n",
       "      <th>AcceptedCmp2</th>\n",
       "      <th>Complain</th>\n",
       "      <th>Z_CostContact</th>\n",
       "      <th>Z_Revenue</th>\n",
       "      <th>Response</th>\n",
       "    </tr>\n",
       "  </thead>\n",
       "  <tbody>\n",
       "    <tr>\n",
       "      <th>0</th>\n",
       "      <td>5524</td>\n",
       "      <td>1957</td>\n",
       "      <td>Graduation</td>\n",
       "      <td>Single</td>\n",
       "      <td>58138.0</td>\n",
       "      <td>0</td>\n",
       "      <td>0</td>\n",
       "      <td>2012-09-04</td>\n",
       "      <td>58</td>\n",
       "      <td>635</td>\n",
       "      <td>...</td>\n",
       "      <td>7</td>\n",
       "      <td>0</td>\n",
       "      <td>0</td>\n",
       "      <td>0</td>\n",
       "      <td>0</td>\n",
       "      <td>0</td>\n",
       "      <td>0</td>\n",
       "      <td>3</td>\n",
       "      <td>11</td>\n",
       "      <td>1</td>\n",
       "    </tr>\n",
       "    <tr>\n",
       "      <th>1</th>\n",
       "      <td>2174</td>\n",
       "      <td>1954</td>\n",
       "      <td>Graduation</td>\n",
       "      <td>Single</td>\n",
       "      <td>46344.0</td>\n",
       "      <td>1</td>\n",
       "      <td>1</td>\n",
       "      <td>2014-03-08</td>\n",
       "      <td>38</td>\n",
       "      <td>11</td>\n",
       "      <td>...</td>\n",
       "      <td>5</td>\n",
       "      <td>0</td>\n",
       "      <td>0</td>\n",
       "      <td>0</td>\n",
       "      <td>0</td>\n",
       "      <td>0</td>\n",
       "      <td>0</td>\n",
       "      <td>3</td>\n",
       "      <td>11</td>\n",
       "      <td>0</td>\n",
       "    </tr>\n",
       "    <tr>\n",
       "      <th>2</th>\n",
       "      <td>4141</td>\n",
       "      <td>1965</td>\n",
       "      <td>Graduation</td>\n",
       "      <td>Together</td>\n",
       "      <td>71613.0</td>\n",
       "      <td>0</td>\n",
       "      <td>0</td>\n",
       "      <td>2013-08-21</td>\n",
       "      <td>26</td>\n",
       "      <td>426</td>\n",
       "      <td>...</td>\n",
       "      <td>4</td>\n",
       "      <td>0</td>\n",
       "      <td>0</td>\n",
       "      <td>0</td>\n",
       "      <td>0</td>\n",
       "      <td>0</td>\n",
       "      <td>0</td>\n",
       "      <td>3</td>\n",
       "      <td>11</td>\n",
       "      <td>0</td>\n",
       "    </tr>\n",
       "    <tr>\n",
       "      <th>3</th>\n",
       "      <td>6182</td>\n",
       "      <td>1984</td>\n",
       "      <td>Graduation</td>\n",
       "      <td>Together</td>\n",
       "      <td>26646.0</td>\n",
       "      <td>1</td>\n",
       "      <td>0</td>\n",
       "      <td>2014-02-10</td>\n",
       "      <td>26</td>\n",
       "      <td>11</td>\n",
       "      <td>...</td>\n",
       "      <td>6</td>\n",
       "      <td>0</td>\n",
       "      <td>0</td>\n",
       "      <td>0</td>\n",
       "      <td>0</td>\n",
       "      <td>0</td>\n",
       "      <td>0</td>\n",
       "      <td>3</td>\n",
       "      <td>11</td>\n",
       "      <td>0</td>\n",
       "    </tr>\n",
       "    <tr>\n",
       "      <th>4</th>\n",
       "      <td>5324</td>\n",
       "      <td>1981</td>\n",
       "      <td>PhD</td>\n",
       "      <td>Married</td>\n",
       "      <td>58293.0</td>\n",
       "      <td>1</td>\n",
       "      <td>0</td>\n",
       "      <td>2014-01-19</td>\n",
       "      <td>94</td>\n",
       "      <td>173</td>\n",
       "      <td>...</td>\n",
       "      <td>5</td>\n",
       "      <td>0</td>\n",
       "      <td>0</td>\n",
       "      <td>0</td>\n",
       "      <td>0</td>\n",
       "      <td>0</td>\n",
       "      <td>0</td>\n",
       "      <td>3</td>\n",
       "      <td>11</td>\n",
       "      <td>0</td>\n",
       "    </tr>\n",
       "  </tbody>\n",
       "</table>\n",
       "<p>5 rows × 29 columns</p>\n",
       "</div>"
      ],
      "text/plain": [
       "     ID  Year_Birth   Education Marital_Status   Income  Kidhome  Teenhome  \\\n",
       "0  5524        1957  Graduation         Single  58138.0        0         0   \n",
       "1  2174        1954  Graduation         Single  46344.0        1         1   \n",
       "2  4141        1965  Graduation       Together  71613.0        0         0   \n",
       "3  6182        1984  Graduation       Together  26646.0        1         0   \n",
       "4  5324        1981         PhD        Married  58293.0        1         0   \n",
       "\n",
       "  Dt_Customer  Recency  MntWines  ...  NumWebVisitsMonth  AcceptedCmp3  \\\n",
       "0  2012-09-04       58       635  ...                  7             0   \n",
       "1  2014-03-08       38        11  ...                  5             0   \n",
       "2  2013-08-21       26       426  ...                  4             0   \n",
       "3  2014-02-10       26        11  ...                  6             0   \n",
       "4  2014-01-19       94       173  ...                  5             0   \n",
       "\n",
       "   AcceptedCmp4  AcceptedCmp5  AcceptedCmp1  AcceptedCmp2  Complain  \\\n",
       "0             0             0             0             0         0   \n",
       "1             0             0             0             0         0   \n",
       "2             0             0             0             0         0   \n",
       "3             0             0             0             0         0   \n",
       "4             0             0             0             0         0   \n",
       "\n",
       "   Z_CostContact  Z_Revenue  Response  \n",
       "0              3         11         1  \n",
       "1              3         11         0  \n",
       "2              3         11         0  \n",
       "3              3         11         0  \n",
       "4              3         11         0  \n",
       "\n",
       "[5 rows x 29 columns]"
      ]
     },
     "execution_count": 2,
     "metadata": {},
     "output_type": "execute_result"
    }
   ],
   "source": [
    "df = pd.read_csv(\"marketing_campaign.csv\",delimiter=';')\n",
    "df.head()"
   ]
  },
  {
   "cell_type": "markdown",
   "id": "5ffb056b",
   "metadata": {},
   "source": [
    "### Step 2: Explore the data fields"
   ]
  },
  {
   "cell_type": "code",
   "execution_count": 3,
   "id": "c08086f6",
   "metadata": {
    "execution": {
     "iopub.execute_input": "2022-08-19T21:43:13.584101Z",
     "iopub.status.busy": "2022-08-19T21:43:13.583305Z",
     "iopub.status.idle": "2022-08-19T21:43:13.590872Z",
     "shell.execute_reply": "2022-08-19T21:43:13.589814Z"
    },
    "papermill": {
     "duration": 0.022536,
     "end_time": "2022-08-19T21:43:13.593242",
     "exception": false,
     "start_time": "2022-08-19T21:43:13.570706",
     "status": "completed"
    },
    "tags": []
   },
   "outputs": [
    {
     "data": {
      "text/plain": [
       "Index(['ID', 'Year_Birth', 'Education', 'Marital_Status', 'Income', 'Kidhome',\n",
       "       'Teenhome', 'Dt_Customer', 'Recency', 'MntWines', 'MntFruits',\n",
       "       'MntMeatProducts', 'MntFishProducts', 'MntSweetProducts',\n",
       "       'MntGoldProds', 'NumDealsPurchases', 'NumWebPurchases',\n",
       "       'NumCatalogPurchases', 'NumStorePurchases', 'NumWebVisitsMonth',\n",
       "       'AcceptedCmp3', 'AcceptedCmp4', 'AcceptedCmp5', 'AcceptedCmp1',\n",
       "       'AcceptedCmp2', 'Complain', 'Z_CostContact', 'Z_Revenue', 'Response'],\n",
       "      dtype='object')"
      ]
     },
     "execution_count": 3,
     "metadata": {},
     "output_type": "execute_result"
    }
   ],
   "source": [
    "df.columns"
   ]
  },
  {
   "cell_type": "code",
   "execution_count": 4,
   "id": "ddb6b594",
   "metadata": {
    "execution": {
     "iopub.execute_input": "2022-08-19T21:43:13.617658Z",
     "iopub.status.busy": "2022-08-19T21:43:13.616927Z",
     "iopub.status.idle": "2022-08-19T21:43:13.704032Z",
     "shell.execute_reply": "2022-08-19T21:43:13.702850Z"
    },
    "papermill": {
     "duration": 0.10181,
     "end_time": "2022-08-19T21:43:13.706384",
     "exception": false,
     "start_time": "2022-08-19T21:43:13.604574",
     "status": "completed"
    },
    "tags": []
   },
   "outputs": [
    {
     "data": {
      "text/html": [
       "<div>\n",
       "<style scoped>\n",
       "    .dataframe tbody tr th:only-of-type {\n",
       "        vertical-align: middle;\n",
       "    }\n",
       "\n",
       "    .dataframe tbody tr th {\n",
       "        vertical-align: top;\n",
       "    }\n",
       "\n",
       "    .dataframe thead th {\n",
       "        text-align: right;\n",
       "    }\n",
       "</style>\n",
       "<table border=\"1\" class=\"dataframe\">\n",
       "  <thead>\n",
       "    <tr style=\"text-align: right;\">\n",
       "      <th></th>\n",
       "      <th>ID</th>\n",
       "      <th>Year_Birth</th>\n",
       "      <th>Income</th>\n",
       "      <th>Kidhome</th>\n",
       "      <th>Teenhome</th>\n",
       "      <th>Recency</th>\n",
       "      <th>MntWines</th>\n",
       "      <th>MntFruits</th>\n",
       "      <th>MntMeatProducts</th>\n",
       "      <th>MntFishProducts</th>\n",
       "      <th>...</th>\n",
       "      <th>NumWebVisitsMonth</th>\n",
       "      <th>AcceptedCmp3</th>\n",
       "      <th>AcceptedCmp4</th>\n",
       "      <th>AcceptedCmp5</th>\n",
       "      <th>AcceptedCmp1</th>\n",
       "      <th>AcceptedCmp2</th>\n",
       "      <th>Complain</th>\n",
       "      <th>Z_CostContact</th>\n",
       "      <th>Z_Revenue</th>\n",
       "      <th>Response</th>\n",
       "    </tr>\n",
       "  </thead>\n",
       "  <tbody>\n",
       "    <tr>\n",
       "      <th>count</th>\n",
       "      <td>2240.000000</td>\n",
       "      <td>2240.000000</td>\n",
       "      <td>2216.000000</td>\n",
       "      <td>2240.000000</td>\n",
       "      <td>2240.000000</td>\n",
       "      <td>2240.000000</td>\n",
       "      <td>2240.000000</td>\n",
       "      <td>2240.000000</td>\n",
       "      <td>2240.000000</td>\n",
       "      <td>2240.000000</td>\n",
       "      <td>...</td>\n",
       "      <td>2240.000000</td>\n",
       "      <td>2240.000000</td>\n",
       "      <td>2240.000000</td>\n",
       "      <td>2240.000000</td>\n",
       "      <td>2240.000000</td>\n",
       "      <td>2240.000000</td>\n",
       "      <td>2240.000000</td>\n",
       "      <td>2240.0</td>\n",
       "      <td>2240.0</td>\n",
       "      <td>2240.000000</td>\n",
       "    </tr>\n",
       "    <tr>\n",
       "      <th>mean</th>\n",
       "      <td>5592.159821</td>\n",
       "      <td>1968.805804</td>\n",
       "      <td>52247.251354</td>\n",
       "      <td>0.444196</td>\n",
       "      <td>0.506250</td>\n",
       "      <td>49.109375</td>\n",
       "      <td>303.935714</td>\n",
       "      <td>26.302232</td>\n",
       "      <td>166.950000</td>\n",
       "      <td>37.525446</td>\n",
       "      <td>...</td>\n",
       "      <td>5.316518</td>\n",
       "      <td>0.072768</td>\n",
       "      <td>0.074554</td>\n",
       "      <td>0.072768</td>\n",
       "      <td>0.064286</td>\n",
       "      <td>0.013393</td>\n",
       "      <td>0.009375</td>\n",
       "      <td>3.0</td>\n",
       "      <td>11.0</td>\n",
       "      <td>0.149107</td>\n",
       "    </tr>\n",
       "    <tr>\n",
       "      <th>std</th>\n",
       "      <td>3246.662198</td>\n",
       "      <td>11.984069</td>\n",
       "      <td>25173.076661</td>\n",
       "      <td>0.538398</td>\n",
       "      <td>0.544538</td>\n",
       "      <td>28.962453</td>\n",
       "      <td>336.597393</td>\n",
       "      <td>39.773434</td>\n",
       "      <td>225.715373</td>\n",
       "      <td>54.628979</td>\n",
       "      <td>...</td>\n",
       "      <td>2.426645</td>\n",
       "      <td>0.259813</td>\n",
       "      <td>0.262728</td>\n",
       "      <td>0.259813</td>\n",
       "      <td>0.245316</td>\n",
       "      <td>0.114976</td>\n",
       "      <td>0.096391</td>\n",
       "      <td>0.0</td>\n",
       "      <td>0.0</td>\n",
       "      <td>0.356274</td>\n",
       "    </tr>\n",
       "    <tr>\n",
       "      <th>min</th>\n",
       "      <td>0.000000</td>\n",
       "      <td>1893.000000</td>\n",
       "      <td>1730.000000</td>\n",
       "      <td>0.000000</td>\n",
       "      <td>0.000000</td>\n",
       "      <td>0.000000</td>\n",
       "      <td>0.000000</td>\n",
       "      <td>0.000000</td>\n",
       "      <td>0.000000</td>\n",
       "      <td>0.000000</td>\n",
       "      <td>...</td>\n",
       "      <td>0.000000</td>\n",
       "      <td>0.000000</td>\n",
       "      <td>0.000000</td>\n",
       "      <td>0.000000</td>\n",
       "      <td>0.000000</td>\n",
       "      <td>0.000000</td>\n",
       "      <td>0.000000</td>\n",
       "      <td>3.0</td>\n",
       "      <td>11.0</td>\n",
       "      <td>0.000000</td>\n",
       "    </tr>\n",
       "    <tr>\n",
       "      <th>25%</th>\n",
       "      <td>2828.250000</td>\n",
       "      <td>1959.000000</td>\n",
       "      <td>35303.000000</td>\n",
       "      <td>0.000000</td>\n",
       "      <td>0.000000</td>\n",
       "      <td>24.000000</td>\n",
       "      <td>23.750000</td>\n",
       "      <td>1.000000</td>\n",
       "      <td>16.000000</td>\n",
       "      <td>3.000000</td>\n",
       "      <td>...</td>\n",
       "      <td>3.000000</td>\n",
       "      <td>0.000000</td>\n",
       "      <td>0.000000</td>\n",
       "      <td>0.000000</td>\n",
       "      <td>0.000000</td>\n",
       "      <td>0.000000</td>\n",
       "      <td>0.000000</td>\n",
       "      <td>3.0</td>\n",
       "      <td>11.0</td>\n",
       "      <td>0.000000</td>\n",
       "    </tr>\n",
       "    <tr>\n",
       "      <th>50%</th>\n",
       "      <td>5458.500000</td>\n",
       "      <td>1970.000000</td>\n",
       "      <td>51381.500000</td>\n",
       "      <td>0.000000</td>\n",
       "      <td>0.000000</td>\n",
       "      <td>49.000000</td>\n",
       "      <td>173.500000</td>\n",
       "      <td>8.000000</td>\n",
       "      <td>67.000000</td>\n",
       "      <td>12.000000</td>\n",
       "      <td>...</td>\n",
       "      <td>6.000000</td>\n",
       "      <td>0.000000</td>\n",
       "      <td>0.000000</td>\n",
       "      <td>0.000000</td>\n",
       "      <td>0.000000</td>\n",
       "      <td>0.000000</td>\n",
       "      <td>0.000000</td>\n",
       "      <td>3.0</td>\n",
       "      <td>11.0</td>\n",
       "      <td>0.000000</td>\n",
       "    </tr>\n",
       "    <tr>\n",
       "      <th>75%</th>\n",
       "      <td>8427.750000</td>\n",
       "      <td>1977.000000</td>\n",
       "      <td>68522.000000</td>\n",
       "      <td>1.000000</td>\n",
       "      <td>1.000000</td>\n",
       "      <td>74.000000</td>\n",
       "      <td>504.250000</td>\n",
       "      <td>33.000000</td>\n",
       "      <td>232.000000</td>\n",
       "      <td>50.000000</td>\n",
       "      <td>...</td>\n",
       "      <td>7.000000</td>\n",
       "      <td>0.000000</td>\n",
       "      <td>0.000000</td>\n",
       "      <td>0.000000</td>\n",
       "      <td>0.000000</td>\n",
       "      <td>0.000000</td>\n",
       "      <td>0.000000</td>\n",
       "      <td>3.0</td>\n",
       "      <td>11.0</td>\n",
       "      <td>0.000000</td>\n",
       "    </tr>\n",
       "    <tr>\n",
       "      <th>max</th>\n",
       "      <td>11191.000000</td>\n",
       "      <td>1996.000000</td>\n",
       "      <td>666666.000000</td>\n",
       "      <td>2.000000</td>\n",
       "      <td>2.000000</td>\n",
       "      <td>99.000000</td>\n",
       "      <td>1493.000000</td>\n",
       "      <td>199.000000</td>\n",
       "      <td>1725.000000</td>\n",
       "      <td>259.000000</td>\n",
       "      <td>...</td>\n",
       "      <td>20.000000</td>\n",
       "      <td>1.000000</td>\n",
       "      <td>1.000000</td>\n",
       "      <td>1.000000</td>\n",
       "      <td>1.000000</td>\n",
       "      <td>1.000000</td>\n",
       "      <td>1.000000</td>\n",
       "      <td>3.0</td>\n",
       "      <td>11.0</td>\n",
       "      <td>1.000000</td>\n",
       "    </tr>\n",
       "  </tbody>\n",
       "</table>\n",
       "<p>8 rows × 26 columns</p>\n",
       "</div>"
      ],
      "text/plain": [
       "                 ID   Year_Birth         Income      Kidhome     Teenhome  \\\n",
       "count   2240.000000  2240.000000    2216.000000  2240.000000  2240.000000   \n",
       "mean    5592.159821  1968.805804   52247.251354     0.444196     0.506250   \n",
       "std     3246.662198    11.984069   25173.076661     0.538398     0.544538   \n",
       "min        0.000000  1893.000000    1730.000000     0.000000     0.000000   \n",
       "25%     2828.250000  1959.000000   35303.000000     0.000000     0.000000   \n",
       "50%     5458.500000  1970.000000   51381.500000     0.000000     0.000000   \n",
       "75%     8427.750000  1977.000000   68522.000000     1.000000     1.000000   \n",
       "max    11191.000000  1996.000000  666666.000000     2.000000     2.000000   \n",
       "\n",
       "           Recency     MntWines    MntFruits  MntMeatProducts  \\\n",
       "count  2240.000000  2240.000000  2240.000000      2240.000000   \n",
       "mean     49.109375   303.935714    26.302232       166.950000   \n",
       "std      28.962453   336.597393    39.773434       225.715373   \n",
       "min       0.000000     0.000000     0.000000         0.000000   \n",
       "25%      24.000000    23.750000     1.000000        16.000000   \n",
       "50%      49.000000   173.500000     8.000000        67.000000   \n",
       "75%      74.000000   504.250000    33.000000       232.000000   \n",
       "max      99.000000  1493.000000   199.000000      1725.000000   \n",
       "\n",
       "       MntFishProducts  ...  NumWebVisitsMonth  AcceptedCmp3  AcceptedCmp4  \\\n",
       "count      2240.000000  ...        2240.000000   2240.000000   2240.000000   \n",
       "mean         37.525446  ...           5.316518      0.072768      0.074554   \n",
       "std          54.628979  ...           2.426645      0.259813      0.262728   \n",
       "min           0.000000  ...           0.000000      0.000000      0.000000   \n",
       "25%           3.000000  ...           3.000000      0.000000      0.000000   \n",
       "50%          12.000000  ...           6.000000      0.000000      0.000000   \n",
       "75%          50.000000  ...           7.000000      0.000000      0.000000   \n",
       "max         259.000000  ...          20.000000      1.000000      1.000000   \n",
       "\n",
       "       AcceptedCmp5  AcceptedCmp1  AcceptedCmp2     Complain  Z_CostContact  \\\n",
       "count   2240.000000   2240.000000   2240.000000  2240.000000         2240.0   \n",
       "mean       0.072768      0.064286      0.013393     0.009375            3.0   \n",
       "std        0.259813      0.245316      0.114976     0.096391            0.0   \n",
       "min        0.000000      0.000000      0.000000     0.000000            3.0   \n",
       "25%        0.000000      0.000000      0.000000     0.000000            3.0   \n",
       "50%        0.000000      0.000000      0.000000     0.000000            3.0   \n",
       "75%        0.000000      0.000000      0.000000     0.000000            3.0   \n",
       "max        1.000000      1.000000      1.000000     1.000000            3.0   \n",
       "\n",
       "       Z_Revenue     Response  \n",
       "count     2240.0  2240.000000  \n",
       "mean        11.0     0.149107  \n",
       "std          0.0     0.356274  \n",
       "min         11.0     0.000000  \n",
       "25%         11.0     0.000000  \n",
       "50%         11.0     0.000000  \n",
       "75%         11.0     0.000000  \n",
       "max         11.0     1.000000  \n",
       "\n",
       "[8 rows x 26 columns]"
      ]
     },
     "execution_count": 4,
     "metadata": {},
     "output_type": "execute_result"
    }
   ],
   "source": [
    "df.describe()"
   ]
  },
  {
   "cell_type": "code",
   "execution_count": 5,
   "id": "6838d271",
   "metadata": {
    "execution": {
     "iopub.execute_input": "2022-08-19T21:43:13.732446Z",
     "iopub.status.busy": "2022-08-19T21:43:13.731709Z",
     "iopub.status.idle": "2022-08-19T21:43:13.738707Z",
     "shell.execute_reply": "2022-08-19T21:43:13.737782Z"
    },
    "papermill": {
     "duration": 0.023512,
     "end_time": "2022-08-19T21:43:13.741524",
     "exception": false,
     "start_time": "2022-08-19T21:43:13.718012",
     "status": "completed"
    },
    "tags": []
   },
   "outputs": [
    {
     "name": "stdout",
     "output_type": "stream",
     "text": [
      "Numerical Features are : \n",
      "'Income', 'Kidhome', 'Teenhome','MntWines', 'MntFruits', 'MntMeatProducts', 'MntFishProducts', 'MntSweetProducts', 'MntGoldProds', 'NumDealsPurchases', 'NumWebPurchases', 'NumCatalogPurchases', 'NumStorePurchases', 'NumWebVisitsMonth'\n",
      "Categorical Features are : \n",
      "'Education','Marital_Status','AcceptedCmp3', 'AcceptedCmp4', 'AcceptedCmp5', 'AcceptedCmp1', 'AcceptedCmp2', 'Complain'\n"
     ]
    }
   ],
   "source": [
    "#find numerical and categorical data:\n",
    "print('Numerical Features are : ')\n",
    "print( \"'Income', 'Kidhome', 'Teenhome','MntWines', 'MntFruits', 'MntMeatProducts', 'MntFishProducts', 'MntSweetProducts', 'MntGoldProds', 'NumDealsPurchases', 'NumWebPurchases', 'NumCatalogPurchases', 'NumStorePurchases', 'NumWebVisitsMonth'\")\n",
    "print('Categorical Features are : ')\n",
    "print( \"'Education','Marital_Status','AcceptedCmp3', 'AcceptedCmp4', 'AcceptedCmp5', 'AcceptedCmp1', 'AcceptedCmp2', 'Complain'\")"
   ]
  },
  {
   "cell_type": "markdown",
   "id": "19432803",
   "metadata": {},
   "source": [
    "### Step 3: Check for missing values and outliers"
   ]
  },
  {
   "cell_type": "code",
   "execution_count": 6,
   "id": "151517e7",
   "metadata": {
    "execution": {
     "iopub.execute_input": "2022-08-19T21:43:13.773527Z",
     "iopub.status.busy": "2022-08-19T21:43:13.772595Z",
     "iopub.status.idle": "2022-08-19T21:43:13.784302Z",
     "shell.execute_reply": "2022-08-19T21:43:13.783213Z"
    },
    "papermill": {
     "duration": 0.03099,
     "end_time": "2022-08-19T21:43:13.786816",
     "exception": false,
     "start_time": "2022-08-19T21:43:13.755826",
     "status": "completed"
    },
    "tags": []
   },
   "outputs": [
    {
     "data": {
      "text/plain": [
       "ID                      0\n",
       "Year_Birth              0\n",
       "Education               0\n",
       "Marital_Status          0\n",
       "Income                 24\n",
       "Kidhome                 0\n",
       "Teenhome                0\n",
       "Dt_Customer             0\n",
       "Recency                 0\n",
       "MntWines                0\n",
       "MntFruits               0\n",
       "MntMeatProducts         0\n",
       "MntFishProducts         0\n",
       "MntSweetProducts        0\n",
       "MntGoldProds            0\n",
       "NumDealsPurchases       0\n",
       "NumWebPurchases         0\n",
       "NumCatalogPurchases     0\n",
       "NumStorePurchases       0\n",
       "NumWebVisitsMonth       0\n",
       "AcceptedCmp3            0\n",
       "AcceptedCmp4            0\n",
       "AcceptedCmp5            0\n",
       "AcceptedCmp1            0\n",
       "AcceptedCmp2            0\n",
       "Complain                0\n",
       "Z_CostContact           0\n",
       "Z_Revenue               0\n",
       "Response                0\n",
       "dtype: int64"
      ]
     },
     "execution_count": 6,
     "metadata": {},
     "output_type": "execute_result"
    }
   ],
   "source": [
    "#check the NA value\n",
    "df.isna().sum()"
   ]
  },
  {
   "cell_type": "code",
   "execution_count": 7,
   "id": "c5b252fd",
   "metadata": {
    "execution": {
     "iopub.execute_input": "2022-08-19T21:43:13.816003Z",
     "iopub.status.busy": "2022-08-19T21:43:13.815295Z",
     "iopub.status.idle": "2022-08-19T21:43:13.823397Z",
     "shell.execute_reply": "2022-08-19T21:43:13.822247Z"
    },
    "papermill": {
     "duration": 0.027012,
     "end_time": "2022-08-19T21:43:13.825980",
     "exception": false,
     "start_time": "2022-08-19T21:43:13.798968",
     "status": "completed"
    },
    "tags": []
   },
   "outputs": [],
   "source": [
    "df.dropna(inplace=True)"
   ]
  },
  {
   "cell_type": "code",
   "execution_count": 8,
   "id": "7e2523cf",
   "metadata": {
    "execution": {
     "iopub.execute_input": "2022-08-19T21:43:13.851313Z",
     "iopub.status.busy": "2022-08-19T21:43:13.850882Z",
     "iopub.status.idle": "2022-08-19T21:43:13.869432Z",
     "shell.execute_reply": "2022-08-19T21:43:13.868269Z"
    },
    "papermill": {
     "duration": 0.034094,
     "end_time": "2022-08-19T21:43:13.872023",
     "exception": false,
     "start_time": "2022-08-19T21:43:13.837929",
     "status": "completed"
    },
    "scrolled": true,
    "tags": []
   },
   "outputs": [
    {
     "name": "stdout",
     "output_type": "stream",
     "text": [
      "<class 'pandas.core.frame.DataFrame'>\n",
      "Int64Index: 2216 entries, 0 to 2239\n",
      "Data columns (total 29 columns):\n",
      " #   Column               Non-Null Count  Dtype  \n",
      "---  ------               --------------  -----  \n",
      " 0   ID                   2216 non-null   int64  \n",
      " 1   Year_Birth           2216 non-null   int64  \n",
      " 2   Education            2216 non-null   object \n",
      " 3   Marital_Status       2216 non-null   object \n",
      " 4   Income               2216 non-null   float64\n",
      " 5   Kidhome              2216 non-null   int64  \n",
      " 6   Teenhome             2216 non-null   int64  \n",
      " 7   Dt_Customer          2216 non-null   object \n",
      " 8   Recency              2216 non-null   int64  \n",
      " 9   MntWines             2216 non-null   int64  \n",
      " 10  MntFruits            2216 non-null   int64  \n",
      " 11  MntMeatProducts      2216 non-null   int64  \n",
      " 12  MntFishProducts      2216 non-null   int64  \n",
      " 13  MntSweetProducts     2216 non-null   int64  \n",
      " 14  MntGoldProds         2216 non-null   int64  \n",
      " 15  NumDealsPurchases    2216 non-null   int64  \n",
      " 16  NumWebPurchases      2216 non-null   int64  \n",
      " 17  NumCatalogPurchases  2216 non-null   int64  \n",
      " 18  NumStorePurchases    2216 non-null   int64  \n",
      " 19  NumWebVisitsMonth    2216 non-null   int64  \n",
      " 20  AcceptedCmp3         2216 non-null   int64  \n",
      " 21  AcceptedCmp4         2216 non-null   int64  \n",
      " 22  AcceptedCmp5         2216 non-null   int64  \n",
      " 23  AcceptedCmp1         2216 non-null   int64  \n",
      " 24  AcceptedCmp2         2216 non-null   int64  \n",
      " 25  Complain             2216 non-null   int64  \n",
      " 26  Z_CostContact        2216 non-null   int64  \n",
      " 27  Z_Revenue            2216 non-null   int64  \n",
      " 28  Response             2216 non-null   int64  \n",
      "dtypes: float64(1), int64(25), object(3)\n",
      "memory usage: 519.4+ KB\n"
     ]
    }
   ],
   "source": [
    "df.info()"
   ]
  },
  {
   "cell_type": "code",
   "execution_count": 9,
   "id": "01cdee88",
   "metadata": {
    "execution": {
     "iopub.execute_input": "2022-08-19T21:43:13.897671Z",
     "iopub.status.busy": "2022-08-19T21:43:13.897252Z",
     "iopub.status.idle": "2022-08-19T21:43:13.906665Z",
     "shell.execute_reply": "2022-08-19T21:43:13.905386Z"
    },
    "papermill": {
     "duration": 0.024987,
     "end_time": "2022-08-19T21:43:13.909057",
     "exception": false,
     "start_time": "2022-08-19T21:43:13.884070",
     "status": "completed"
    },
    "scrolled": true,
    "tags": []
   },
   "outputs": [
    {
     "name": "stdout",
     "output_type": "stream",
     "text": [
      "AcceptedCmp1\n",
      "0    93.592058\n",
      "1     6.407942\n",
      "dtype: float64\n"
     ]
    }
   ],
   "source": [
    "#get more information with categorical data\n",
    "AcceptedCmp1_rate = (df.groupby('AcceptedCmp1').size()/df['AcceptedCmp1'].count())*100\n",
    "print(AcceptedCmp1_rate)"
   ]
  },
  {
   "cell_type": "code",
   "execution_count": 10,
   "id": "193d41d9",
   "metadata": {
    "execution": {
     "iopub.execute_input": "2022-08-19T21:43:13.935339Z",
     "iopub.status.busy": "2022-08-19T21:43:13.934878Z",
     "iopub.status.idle": "2022-08-19T21:43:13.943694Z",
     "shell.execute_reply": "2022-08-19T21:43:13.942359Z"
    },
    "papermill": {
     "duration": 0.025234,
     "end_time": "2022-08-19T21:43:13.946325",
     "exception": false,
     "start_time": "2022-08-19T21:43:13.921091",
     "status": "completed"
    },
    "tags": []
   },
   "outputs": [
    {
     "name": "stdout",
     "output_type": "stream",
     "text": [
      "AcceptedCmp2\n",
      "0    98.646209\n",
      "1     1.353791\n",
      "dtype: float64\n"
     ]
    }
   ],
   "source": [
    "AcceptedCmp2_rate = (df.groupby('AcceptedCmp2').size()/df['AcceptedCmp2'].count())*100\n",
    "print(AcceptedCmp2_rate)"
   ]
  },
  {
   "cell_type": "code",
   "execution_count": 11,
   "id": "cc177d84",
   "metadata": {
    "execution": {
     "iopub.execute_input": "2022-08-19T21:43:13.972494Z",
     "iopub.status.busy": "2022-08-19T21:43:13.972060Z",
     "iopub.status.idle": "2022-08-19T21:43:13.979948Z",
     "shell.execute_reply": "2022-08-19T21:43:13.978976Z"
    },
    "papermill": {
     "duration": 0.023849,
     "end_time": "2022-08-19T21:43:13.982466",
     "exception": false,
     "start_time": "2022-08-19T21:43:13.958617",
     "status": "completed"
    },
    "tags": []
   },
   "outputs": [
    {
     "name": "stdout",
     "output_type": "stream",
     "text": [
      "AcceptedCmp3\n",
      "0    92.644404\n",
      "1     7.355596\n",
      "dtype: float64\n"
     ]
    }
   ],
   "source": [
    "AcceptedCmp3_rate = (df.groupby('AcceptedCmp3').size()/df['AcceptedCmp3'].count())*100\n",
    "print(AcceptedCmp3_rate)"
   ]
  },
  {
   "cell_type": "code",
   "execution_count": 12,
   "id": "3836e311",
   "metadata": {
    "execution": {
     "iopub.execute_input": "2022-08-19T21:43:14.009777Z",
     "iopub.status.busy": "2022-08-19T21:43:14.008470Z",
     "iopub.status.idle": "2022-08-19T21:43:14.017754Z",
     "shell.execute_reply": "2022-08-19T21:43:14.016406Z"
    },
    "papermill": {
     "duration": 0.025312,
     "end_time": "2022-08-19T21:43:14.019990",
     "exception": false,
     "start_time": "2022-08-19T21:43:13.994678",
     "status": "completed"
    },
    "tags": []
   },
   "outputs": [
    {
     "name": "stdout",
     "output_type": "stream",
     "text": [
      "AcceptedCmp4\n",
      "0    92.599278\n",
      "1     7.400722\n",
      "dtype: float64\n"
     ]
    }
   ],
   "source": [
    "AcceptedCmp4_rate = (df.groupby('AcceptedCmp4').size()/df['AcceptedCmp4'].count())*100\n",
    "print(AcceptedCmp4_rate)"
   ]
  },
  {
   "cell_type": "code",
   "execution_count": 13,
   "id": "d78a711c",
   "metadata": {
    "execution": {
     "iopub.execute_input": "2022-08-19T21:43:14.046874Z",
     "iopub.status.busy": "2022-08-19T21:43:14.046186Z",
     "iopub.status.idle": "2022-08-19T21:43:14.054923Z",
     "shell.execute_reply": "2022-08-19T21:43:14.053290Z"
    },
    "papermill": {
     "duration": 0.025687,
     "end_time": "2022-08-19T21:43:14.058142",
     "exception": false,
     "start_time": "2022-08-19T21:43:14.032455",
     "status": "completed"
    },
    "tags": []
   },
   "outputs": [
    {
     "name": "stdout",
     "output_type": "stream",
     "text": [
      "AcceptedCmp5\n",
      "0    92.689531\n",
      "1     7.310469\n",
      "dtype: float64\n"
     ]
    }
   ],
   "source": [
    "AcceptedCmp5_rate = (df.groupby('AcceptedCmp5').size()/df['AcceptedCmp5'].count())*100\n",
    "print(AcceptedCmp5_rate)"
   ]
  },
  {
   "cell_type": "code",
   "execution_count": 14,
   "id": "7202b336",
   "metadata": {
    "execution": {
     "iopub.execute_input": "2022-08-19T21:43:14.085253Z",
     "iopub.status.busy": "2022-08-19T21:43:14.084822Z",
     "iopub.status.idle": "2022-08-19T21:43:14.093939Z",
     "shell.execute_reply": "2022-08-19T21:43:14.092395Z"
    },
    "papermill": {
     "duration": 0.025265,
     "end_time": "2022-08-19T21:43:14.096418",
     "exception": false,
     "start_time": "2022-08-19T21:43:14.071153",
     "status": "completed"
    },
    "tags": []
   },
   "outputs": [
    {
     "name": "stdout",
     "output_type": "stream",
     "text": [
      "Response\n",
      "0    84.972924\n",
      "1    15.027076\n",
      "dtype: float64\n"
     ]
    }
   ],
   "source": [
    "response_rate = (df.groupby('Response').size()/df['Response'].count())*100\n",
    "print(response_rate)"
   ]
  },
  {
   "cell_type": "markdown",
   "id": "76b91ba8",
   "metadata": {
    "papermill": {
     "duration": 0.011995,
     "end_time": "2022-08-19T21:43:14.120902",
     "exception": false,
     "start_time": "2022-08-19T21:43:14.108907",
     "status": "completed"
    },
    "tags": []
   },
   "source": [
    "It's not a balance dataset. The majority class is 0, means most of customers will reject the marketing compaign."
   ]
  },
  {
   "cell_type": "markdown",
   "id": "fb2c71e9",
   "metadata": {},
   "source": [
    "### Step 4: Perform feature engineering and EDA"
   ]
  },
  {
   "cell_type": "markdown",
   "id": "27b2c533",
   "metadata": {},
   "source": [
    "### While performing EDA, explore the univariate,bivariate, and Multivariate variables through visualizations"
   ]
  },
  {
   "cell_type": "code",
   "execution_count": 15,
   "id": "6c03d36a",
   "metadata": {
    "execution": {
     "iopub.execute_input": "2022-08-19T21:43:14.147421Z",
     "iopub.status.busy": "2022-08-19T21:43:14.146630Z",
     "iopub.status.idle": "2022-08-19T21:43:14.315748Z",
     "shell.execute_reply": "2022-08-19T21:43:14.314531Z"
    },
    "papermill": {
     "duration": 0.1849,
     "end_time": "2022-08-19T21:43:14.318078",
     "exception": false,
     "start_time": "2022-08-19T21:43:14.133178",
     "status": "completed"
    },
    "tags": []
   },
   "outputs": [
    {
     "data": {
      "text/plain": [
       "<AxesSubplot:xlabel='Education', ylabel='count'>"
      ]
     },
     "execution_count": 15,
     "metadata": {},
     "output_type": "execute_result"
    },
    {
     "data": {
      "image/png": "[encoded data removed]",
      "text/plain": [
       "<Figure size 432x288 with 1 Axes>"
      ]
     },
     "metadata": {
      "needs_background": "light"
     },
     "output_type": "display_data"
    }
   ],
   "source": [
    "sns.countplot(x = 'Education',data = df)"
   ]
  },
  {
   "cell_type": "code",
   "execution_count": 16,
   "id": "9700b789",
   "metadata": {
    "execution": {
     "iopub.execute_input": "2022-08-19T21:43:14.346513Z",
     "iopub.status.busy": "2022-08-19T21:43:14.345797Z",
     "iopub.status.idle": "2022-08-19T21:43:14.549475Z",
     "shell.execute_reply": "2022-08-19T21:43:14.548072Z"
    },
    "papermill": {
     "duration": 0.220888,
     "end_time": "2022-08-19T21:43:14.552454",
     "exception": false,
     "start_time": "2022-08-19T21:43:14.331566",
     "status": "completed"
    },
    "tags": []
   },
   "outputs": [
    {
     "data": {
      "text/plain": [
       "<AxesSubplot:xlabel='Marital_Status', ylabel='count'>"
      ]
     },
     "execution_count": 16,
     "metadata": {},
     "output_type": "execute_result"
    },
    {
     "data": {
      "image/png": "[encoded data removed]",
      "text/plain": [
       "<Figure size 432x288 with 1 Axes>"
      ]
     },
     "metadata": {
      "needs_background": "light"
     },
     "output_type": "display_data"
    }
   ],
   "source": [
    "sns.countplot(x = 'Marital_Status',data = df, order = df['Marital_Status'].value_counts().index)"
   ]
  },
  {
   "cell_type": "code",
   "execution_count": 17,
   "id": "6d295b3e",
   "metadata": {
    "execution": {
     "iopub.execute_input": "2022-08-19T21:43:14.581241Z",
     "iopub.status.busy": "2022-08-19T21:43:14.580258Z",
     "iopub.status.idle": "2022-08-19T21:43:14.777284Z",
     "shell.execute_reply": "2022-08-19T21:43:14.776105Z"
    },
    "papermill": {
     "duration": 0.214391,
     "end_time": "2022-08-19T21:43:14.780104",
     "exception": false,
     "start_time": "2022-08-19T21:43:14.565713",
     "status": "completed"
    },
    "tags": []
   },
   "outputs": [
    {
     "data": {
      "text/plain": [
       "<AxesSubplot:ylabel='0'>"
      ]
     },
     "execution_count": 17,
     "metadata": {},
     "output_type": "execute_result"
    },
    {
     "data": {
      "image/png": "[encoded data removed]",
      "text/plain": [
       "<Figure size 864x360 with 1 Axes>"
      ]
     },
     "metadata": {
      "needs_background": "light"
     },
     "output_type": "display_data"
    }
   ],
   "source": [
    "#which purches way is the customers' favorite\n",
    "spent_tot = pd.DataFrame(df[['NumDealsPurchases', 'NumWebPurchases', 'NumCatalogPurchases', 'NumStorePurchases', 'NumWebVisitsMonth']].sum())\n",
    "plt.figure(figsize=(12,5))\n",
    "sns.barplot(x = spent_tot.index,y = spent_tot[0], data = spent_tot)"
   ]
  },
  {
   "cell_type": "code",
   "execution_count": 18,
   "id": "f7b7c8df",
   "metadata": {
    "execution": {
     "iopub.execute_input": "2022-08-19T21:43:14.810012Z",
     "iopub.status.busy": "2022-08-19T21:43:14.809243Z",
     "iopub.status.idle": "2022-08-19T21:43:15.005572Z",
     "shell.execute_reply": "2022-08-19T21:43:15.004507Z"
    },
    "papermill": {
     "duration": 0.214326,
     "end_time": "2022-08-19T21:43:15.008012",
     "exception": false,
     "start_time": "2022-08-19T21:43:14.793686",
     "status": "completed"
    },
    "tags": []
   },
   "outputs": [
    {
     "data": {
      "text/plain": [
       "<AxesSubplot:ylabel='0'>"
      ]
     },
     "execution_count": 18,
     "metadata": {},
     "output_type": "execute_result"
    },
    {
     "data": {
      "image/png": "[encoded data removed]",
      "text/plain": [
       "<Figure size 864x360 with 1 Axes>"
      ]
     },
     "metadata": {
      "needs_background": "light"
     },
     "output_type": "display_data"
    }
   ],
   "source": [
    "#What type of groceries are most popular\n",
    "spent_tot = pd.DataFrame(df[[ 'MntWines', 'MntFruits',\n",
    "       'MntMeatProducts', 'MntFishProducts', 'MntSweetProducts',\n",
    "       'MntGoldProds']].sum())\n",
    "plt.figure(figsize=(12,5))\n",
    "sns.barplot(x = spent_tot.index,y = spent_tot[0], data = spent_tot)"
   ]
  },
  {
   "cell_type": "code",
   "execution_count": 19,
   "id": "d150918f",
   "metadata": {
    "execution": {
     "iopub.execute_input": "2022-08-19T21:43:15.038763Z",
     "iopub.status.busy": "2022-08-19T21:43:15.038056Z",
     "iopub.status.idle": "2022-08-19T21:43:15.274921Z",
     "shell.execute_reply": "2022-08-19T21:43:15.274087Z"
    },
    "papermill": {
     "duration": 0.254983,
     "end_time": "2022-08-19T21:43:15.277052",
     "exception": false,
     "start_time": "2022-08-19T21:43:15.022069",
     "status": "completed"
    },
    "tags": []
   },
   "outputs": [
    {
     "data": {
      "text/plain": [
       "<AxesSubplot:xlabel='Income', ylabel='Count'>"
      ]
     },
     "execution_count": 19,
     "metadata": {},
     "output_type": "execute_result"
    },
    {
     "data": {
      "image/png": "[encoded data removed]",
      "text/plain": [
       "<Figure size 864x360 with 1 Axes>"
      ]
     },
     "metadata": {
      "needs_background": "light"
     },
     "output_type": "display_data"
    }
   ],
   "source": [
    "#Find the data distribution\n",
    "plt.figure(figsize=(12,5))\n",
    "sns.histplot(x='Income',bins=50,data=df,multiple='stack')"
   ]
  },
  {
   "cell_type": "markdown",
   "id": "07c174b9",
   "metadata": {
    "papermill": {
     "duration": 0.013717,
     "end_time": "2022-08-19T21:43:15.304974",
     "exception": false,
     "start_time": "2022-08-19T21:43:15.291257",
     "status": "completed"
    },
    "tags": []
   },
   "source": [
    "After remove some fewer outlier data, I find the Income is right skewed normal distribution."
   ]
  },
  {
   "cell_type": "code",
   "execution_count": 20,
   "id": "f180b000",
   "metadata": {
    "execution": {
     "iopub.execute_input": "2022-08-19T21:43:15.335311Z",
     "iopub.status.busy": "2022-08-19T21:43:15.334565Z",
     "iopub.status.idle": "2022-08-19T21:43:15.582221Z",
     "shell.execute_reply": "2022-08-19T21:43:15.581348Z"
    },
    "papermill": {
     "duration": 0.265562,
     "end_time": "2022-08-19T21:43:15.584590",
     "exception": false,
     "start_time": "2022-08-19T21:43:15.319028",
     "status": "completed"
    },
    "tags": []
   },
   "outputs": [
    {
     "data": {
      "text/plain": [
       "<AxesSubplot:xlabel='Year_Birth', ylabel='Count'>"
      ]
     },
     "execution_count": 20,
     "metadata": {},
     "output_type": "execute_result"
    },
    {
     "data": {
      "image/png": "[encoded data removed]",
      "text/plain": [
       "<Figure size 864x360 with 1 Axes>"
      ]
     },
     "metadata": {
      "needs_background": "light"
     },
     "output_type": "display_data"
    }
   ],
   "source": [
    "plt.figure(figsize=(12,5))\n",
    "sns.histplot(x='Year_Birth',bins=50,data=df,multiple='stack')"
   ]
  },
  {
   "cell_type": "markdown",
   "id": "51294b87",
   "metadata": {
    "papermill": {
     "duration": 0.014083,
     "end_time": "2022-08-19T21:43:15.613336",
     "exception": false,
     "start_time": "2022-08-19T21:43:15.599253",
     "status": "completed"
    },
    "tags": []
   },
   "source": [
    "After remove some  fewrt outlier data, the Year_Birth is normal distribution. So I decided delete this feature."
   ]
  },
  {
   "cell_type": "markdown",
   "id": "8ff9234c",
   "metadata": {
    "papermill": {
     "duration": 0.01412,
     "end_time": "2022-08-19T21:43:15.641864",
     "exception": false,
     "start_time": "2022-08-19T21:43:15.627744",
     "status": "completed"
    },
    "tags": []
   },
   "source": [
    "## Step 5: Apply ML models for classification"
   ]
  },
  {
   "cell_type": "code",
   "execution_count": 21,
   "id": "1b74c0b1",
   "metadata": {
    "execution": {
     "iopub.execute_input": "2022-08-19T21:43:15.673456Z",
     "iopub.status.busy": "2022-08-19T21:43:15.672716Z",
     "iopub.status.idle": "2022-08-19T21:43:16.106921Z",
     "shell.execute_reply": "2022-08-19T21:43:16.105719Z"
    },
    "papermill": {
     "duration": 0.453418,
     "end_time": "2022-08-19T21:43:16.109848",
     "exception": false,
     "start_time": "2022-08-19T21:43:15.656430",
     "status": "completed"
    },
    "tags": []
   },
   "outputs": [],
   "source": [
    "from sklearn.linear_model import LogisticRegression\n",
    "from sklearn.discriminant_analysis import LinearDiscriminantAnalysis as LDA\n",
    "from sklearn.discriminant_analysis import QuadraticDiscriminantAnalysis as QDA\n",
    "from sklearn import svm, tree\n",
    "from sklearn.ensemble import RandomForestClassifier\n",
    "from sklearn.neighbors import KNeighborsClassifier\n",
    "from sklearn.naive_bayes import GaussianNB\n",
    "\n",
    "from sklearn.metrics import confusion_matrix\n",
    "from sklearn.model_selection import train_test_split\n",
    "from sklearn.preprocessing import StandardScaler\n",
    "from sklearn.preprocessing import LabelEncoder\n",
    "from sklearn.metrics import recall_score"
   ]
  },
  {
   "cell_type": "code",
   "execution_count": 22,
   "id": "b3e1921c",
   "metadata": {
    "execution": {
     "iopub.execute_input": "2022-08-19T21:43:16.142355Z",
     "iopub.status.busy": "2022-08-19T21:43:16.141421Z",
     "iopub.status.idle": "2022-08-19T21:43:16.175023Z",
     "shell.execute_reply": "2022-08-19T21:43:16.174172Z"
    },
    "papermill": {
     "duration": 0.053008,
     "end_time": "2022-08-19T21:43:16.177819",
     "exception": false,
     "start_time": "2022-08-19T21:43:16.124811",
     "status": "completed"
    },
    "tags": []
   },
   "outputs": [
    {
     "data": {
      "text/html": [
       "<div>\n",
       "<style scoped>\n",
       "    .dataframe tbody tr th:only-of-type {\n",
       "        vertical-align: middle;\n",
       "    }\n",
       "\n",
       "    .dataframe tbody tr th {\n",
       "        vertical-align: top;\n",
       "    }\n",
       "\n",
       "    .dataframe thead th {\n",
       "        text-align: right;\n",
       "    }\n",
       "</style>\n",
       "<table border=\"1\" class=\"dataframe\">\n",
       "  <thead>\n",
       "    <tr style=\"text-align: right;\">\n",
       "      <th></th>\n",
       "      <th>ID</th>\n",
       "      <th>Year_Birth</th>\n",
       "      <th>Income</th>\n",
       "      <th>Kidhome</th>\n",
       "      <th>Teenhome</th>\n",
       "      <th>Dt_Customer</th>\n",
       "      <th>Recency</th>\n",
       "      <th>MntWines</th>\n",
       "      <th>MntFruits</th>\n",
       "      <th>MntMeatProducts</th>\n",
       "      <th>...</th>\n",
       "      <th>Education_Graduation</th>\n",
       "      <th>Education_Master</th>\n",
       "      <th>Education_PhD</th>\n",
       "      <th>Marital_Status_Alone</th>\n",
       "      <th>Marital_Status_Divorced</th>\n",
       "      <th>Marital_Status_Married</th>\n",
       "      <th>Marital_Status_Single</th>\n",
       "      <th>Marital_Status_Together</th>\n",
       "      <th>Marital_Status_Widow</th>\n",
       "      <th>Marital_Status_YOLO</th>\n",
       "    </tr>\n",
       "  </thead>\n",
       "  <tbody>\n",
       "    <tr>\n",
       "      <th>0</th>\n",
       "      <td>5524</td>\n",
       "      <td>1957</td>\n",
       "      <td>58138.0</td>\n",
       "      <td>0</td>\n",
       "      <td>0</td>\n",
       "      <td>2012-09-04</td>\n",
       "      <td>58</td>\n",
       "      <td>635</td>\n",
       "      <td>88</td>\n",
       "      <td>546</td>\n",
       "      <td>...</td>\n",
       "      <td>1</td>\n",
       "      <td>0</td>\n",
       "      <td>0</td>\n",
       "      <td>0</td>\n",
       "      <td>0</td>\n",
       "      <td>0</td>\n",
       "      <td>1</td>\n",
       "      <td>0</td>\n",
       "      <td>0</td>\n",
       "      <td>0</td>\n",
       "    </tr>\n",
       "    <tr>\n",
       "      <th>1</th>\n",
       "      <td>2174</td>\n",
       "      <td>1954</td>\n",
       "      <td>46344.0</td>\n",
       "      <td>1</td>\n",
       "      <td>1</td>\n",
       "      <td>2014-03-08</td>\n",
       "      <td>38</td>\n",
       "      <td>11</td>\n",
       "      <td>1</td>\n",
       "      <td>6</td>\n",
       "      <td>...</td>\n",
       "      <td>1</td>\n",
       "      <td>0</td>\n",
       "      <td>0</td>\n",
       "      <td>0</td>\n",
       "      <td>0</td>\n",
       "      <td>0</td>\n",
       "      <td>1</td>\n",
       "      <td>0</td>\n",
       "      <td>0</td>\n",
       "      <td>0</td>\n",
       "    </tr>\n",
       "    <tr>\n",
       "      <th>2</th>\n",
       "      <td>4141</td>\n",
       "      <td>1965</td>\n",
       "      <td>71613.0</td>\n",
       "      <td>0</td>\n",
       "      <td>0</td>\n",
       "      <td>2013-08-21</td>\n",
       "      <td>26</td>\n",
       "      <td>426</td>\n",
       "      <td>49</td>\n",
       "      <td>127</td>\n",
       "      <td>...</td>\n",
       "      <td>1</td>\n",
       "      <td>0</td>\n",
       "      <td>0</td>\n",
       "      <td>0</td>\n",
       "      <td>0</td>\n",
       "      <td>0</td>\n",
       "      <td>0</td>\n",
       "      <td>1</td>\n",
       "      <td>0</td>\n",
       "      <td>0</td>\n",
       "    </tr>\n",
       "    <tr>\n",
       "      <th>3</th>\n",
       "      <td>6182</td>\n",
       "      <td>1984</td>\n",
       "      <td>26646.0</td>\n",
       "      <td>1</td>\n",
       "      <td>0</td>\n",
       "      <td>2014-02-10</td>\n",
       "      <td>26</td>\n",
       "      <td>11</td>\n",
       "      <td>4</td>\n",
       "      <td>20</td>\n",
       "      <td>...</td>\n",
       "      <td>1</td>\n",
       "      <td>0</td>\n",
       "      <td>0</td>\n",
       "      <td>0</td>\n",
       "      <td>0</td>\n",
       "      <td>0</td>\n",
       "      <td>0</td>\n",
       "      <td>1</td>\n",
       "      <td>0</td>\n",
       "      <td>0</td>\n",
       "    </tr>\n",
       "    <tr>\n",
       "      <th>4</th>\n",
       "      <td>5324</td>\n",
       "      <td>1981</td>\n",
       "      <td>58293.0</td>\n",
       "      <td>1</td>\n",
       "      <td>0</td>\n",
       "      <td>2014-01-19</td>\n",
       "      <td>94</td>\n",
       "      <td>173</td>\n",
       "      <td>43</td>\n",
       "      <td>118</td>\n",
       "      <td>...</td>\n",
       "      <td>0</td>\n",
       "      <td>0</td>\n",
       "      <td>1</td>\n",
       "      <td>0</td>\n",
       "      <td>0</td>\n",
       "      <td>1</td>\n",
       "      <td>0</td>\n",
       "      <td>0</td>\n",
       "      <td>0</td>\n",
       "      <td>0</td>\n",
       "    </tr>\n",
       "    <tr>\n",
       "      <th>...</th>\n",
       "      <td>...</td>\n",
       "      <td>...</td>\n",
       "      <td>...</td>\n",
       "      <td>...</td>\n",
       "      <td>...</td>\n",
       "      <td>...</td>\n",
       "      <td>...</td>\n",
       "      <td>...</td>\n",
       "      <td>...</td>\n",
       "      <td>...</td>\n",
       "      <td>...</td>\n",
       "      <td>...</td>\n",
       "      <td>...</td>\n",
       "      <td>...</td>\n",
       "      <td>...</td>\n",
       "      <td>...</td>\n",
       "      <td>...</td>\n",
       "      <td>...</td>\n",
       "      <td>...</td>\n",
       "      <td>...</td>\n",
       "      <td>...</td>\n",
       "    </tr>\n",
       "    <tr>\n",
       "      <th>2235</th>\n",
       "      <td>10870</td>\n",
       "      <td>1967</td>\n",
       "      <td>61223.0</td>\n",
       "      <td>0</td>\n",
       "      <td>1</td>\n",
       "      <td>2013-06-13</td>\n",
       "      <td>46</td>\n",
       "      <td>709</td>\n",
       "      <td>43</td>\n",
       "      <td>182</td>\n",
       "      <td>...</td>\n",
       "      <td>1</td>\n",
       "      <td>0</td>\n",
       "      <td>0</td>\n",
       "      <td>0</td>\n",
       "      <td>0</td>\n",
       "      <td>1</td>\n",
       "      <td>0</td>\n",
       "      <td>0</td>\n",
       "      <td>0</td>\n",
       "      <td>0</td>\n",
       "    </tr>\n",
       "    <tr>\n",
       "      <th>2236</th>\n",
       "      <td>4001</td>\n",
       "      <td>1946</td>\n",
       "      <td>64014.0</td>\n",
       "      <td>2</td>\n",
       "      <td>1</td>\n",
       "      <td>2014-06-10</td>\n",
       "      <td>56</td>\n",
       "      <td>406</td>\n",
       "      <td>0</td>\n",
       "      <td>30</td>\n",
       "      <td>...</td>\n",
       "      <td>0</td>\n",
       "      <td>0</td>\n",
       "      <td>1</td>\n",
       "      <td>0</td>\n",
       "      <td>0</td>\n",
       "      <td>0</td>\n",
       "      <td>0</td>\n",
       "      <td>1</td>\n",
       "      <td>0</td>\n",
       "      <td>0</td>\n",
       "    </tr>\n",
       "    <tr>\n",
       "      <th>2237</th>\n",
       "      <td>7270</td>\n",
       "      <td>1981</td>\n",
       "      <td>56981.0</td>\n",
       "      <td>0</td>\n",
       "      <td>0</td>\n",
       "      <td>2014-01-25</td>\n",
       "      <td>91</td>\n",
       "      <td>908</td>\n",
       "      <td>48</td>\n",
       "      <td>217</td>\n",
       "      <td>...</td>\n",
       "      <td>1</td>\n",
       "      <td>0</td>\n",
       "      <td>0</td>\n",
       "      <td>0</td>\n",
       "      <td>1</td>\n",
       "      <td>0</td>\n",
       "      <td>0</td>\n",
       "      <td>0</td>\n",
       "      <td>0</td>\n",
       "      <td>0</td>\n",
       "    </tr>\n",
       "    <tr>\n",
       "      <th>2238</th>\n",
       "      <td>8235</td>\n",
       "      <td>1956</td>\n",
       "      <td>69245.0</td>\n",
       "      <td>0</td>\n",
       "      <td>1</td>\n",
       "      <td>2014-01-24</td>\n",
       "      <td>8</td>\n",
       "      <td>428</td>\n",
       "      <td>30</td>\n",
       "      <td>214</td>\n",
       "      <td>...</td>\n",
       "      <td>0</td>\n",
       "      <td>1</td>\n",
       "      <td>0</td>\n",
       "      <td>0</td>\n",
       "      <td>0</td>\n",
       "      <td>0</td>\n",
       "      <td>0</td>\n",
       "      <td>1</td>\n",
       "      <td>0</td>\n",
       "      <td>0</td>\n",
       "    </tr>\n",
       "    <tr>\n",
       "      <th>2239</th>\n",
       "      <td>9405</td>\n",
       "      <td>1954</td>\n",
       "      <td>52869.0</td>\n",
       "      <td>1</td>\n",
       "      <td>1</td>\n",
       "      <td>2012-10-15</td>\n",
       "      <td>40</td>\n",
       "      <td>84</td>\n",
       "      <td>3</td>\n",
       "      <td>61</td>\n",
       "      <td>...</td>\n",
       "      <td>0</td>\n",
       "      <td>0</td>\n",
       "      <td>1</td>\n",
       "      <td>0</td>\n",
       "      <td>0</td>\n",
       "      <td>1</td>\n",
       "      <td>0</td>\n",
       "      <td>0</td>\n",
       "      <td>0</td>\n",
       "      <td>0</td>\n",
       "    </tr>\n",
       "  </tbody>\n",
       "</table>\n",
       "<p>2216 rows × 38 columns</p>\n",
       "</div>"
      ],
      "text/plain": [
       "         ID  Year_Birth   Income  Kidhome  Teenhome Dt_Customer  Recency  \\\n",
       "0      5524        1957  58138.0        0         0  2012-09-04       58   \n",
       "1      2174        1954  46344.0        1         1  2014-03-08       38   \n",
       "2      4141        1965  71613.0        0         0  2013-08-21       26   \n",
       "3      6182        1984  26646.0        1         0  2014-02-10       26   \n",
       "4      5324        1981  58293.0        1         0  2014-01-19       94   \n",
       "...     ...         ...      ...      ...       ...         ...      ...   \n",
       "2235  10870        1967  61223.0        0         1  2013-06-13       46   \n",
       "2236   4001        1946  64014.0        2         1  2014-06-10       56   \n",
       "2237   7270        1981  56981.0        0         0  2014-01-25       91   \n",
       "2238   8235        1956  69245.0        0         1  2014-01-24        8   \n",
       "2239   9405        1954  52869.0        1         1  2012-10-15       40   \n",
       "\n",
       "      MntWines  MntFruits  MntMeatProducts  ...  Education_Graduation  \\\n",
       "0          635         88              546  ...                     1   \n",
       "1           11          1                6  ...                     1   \n",
       "2          426         49              127  ...                     1   \n",
       "3           11          4               20  ...                     1   \n",
       "4          173         43              118  ...                     0   \n",
       "...        ...        ...              ...  ...                   ...   \n",
       "2235       709         43              182  ...                     1   \n",
       "2236       406          0               30  ...                     0   \n",
       "2237       908         48              217  ...                     1   \n",
       "2238       428         30              214  ...                     0   \n",
       "2239        84          3               61  ...                     0   \n",
       "\n",
       "      Education_Master  Education_PhD  Marital_Status_Alone  \\\n",
       "0                    0              0                     0   \n",
       "1                    0              0                     0   \n",
       "2                    0              0                     0   \n",
       "3                    0              0                     0   \n",
       "4                    0              1                     0   \n",
       "...                ...            ...                   ...   \n",
       "2235                 0              0                     0   \n",
       "2236                 0              1                     0   \n",
       "2237                 0              0                     0   \n",
       "2238                 1              0                     0   \n",
       "2239                 0              1                     0   \n",
       "\n",
       "      Marital_Status_Divorced  Marital_Status_Married  Marital_Status_Single  \\\n",
       "0                           0                       0                      1   \n",
       "1                           0                       0                      1   \n",
       "2                           0                       0                      0   \n",
       "3                           0                       0                      0   \n",
       "4                           0                       1                      0   \n",
       "...                       ...                     ...                    ...   \n",
       "2235                        0                       1                      0   \n",
       "2236                        0                       0                      0   \n",
       "2237                        1                       0                      0   \n",
       "2238                        0                       0                      0   \n",
       "2239                        0                       1                      0   \n",
       "\n",
       "      Marital_Status_Together  Marital_Status_Widow  Marital_Status_YOLO  \n",
       "0                           0                     0                    0  \n",
       "1                           0                     0                    0  \n",
       "2                           1                     0                    0  \n",
       "3                           1                     0                    0  \n",
       "4                           0                     0                    0  \n",
       "...                       ...                   ...                  ...  \n",
       "2235                        0                     0                    0  \n",
       "2236                        1                     0                    0  \n",
       "2237                        0                     0                    0  \n",
       "2238                        1                     0                    0  \n",
       "2239                        0                     0                    0  \n",
       "\n",
       "[2216 rows x 38 columns]"
      ]
     },
     "execution_count": 22,
     "metadata": {},
     "output_type": "execute_result"
    }
   ],
   "source": [
    "#For the object data type columns, get dummies\n",
    "df1 = pd.get_dummies(df, drop_first = True, columns=['Education','Marital_Status'])\n",
    "\n",
    "df1"
   ]
  },
  {
   "cell_type": "code",
   "execution_count": 23,
   "id": "cd1ac6e8",
   "metadata": {
    "execution": {
     "iopub.execute_input": "2022-08-19T21:43:16.218188Z",
     "iopub.status.busy": "2022-08-19T21:43:16.217798Z",
     "iopub.status.idle": "2022-08-19T21:43:16.225365Z",
     "shell.execute_reply": "2022-08-19T21:43:16.224174Z"
    },
    "papermill": {
     "duration": 0.03168,
     "end_time": "2022-08-19T21:43:16.228706",
     "exception": false,
     "start_time": "2022-08-19T21:43:16.197026",
     "status": "completed"
    },
    "tags": []
   },
   "outputs": [
    {
     "data": {
      "text/plain": [
       "Index(['ID', 'Year_Birth', 'Income', 'Kidhome', 'Teenhome', 'Dt_Customer',\n",
       "       'Recency', 'MntWines', 'MntFruits', 'MntMeatProducts',\n",
       "       'MntFishProducts', 'MntSweetProducts', 'MntGoldProds',\n",
       "       'NumDealsPurchases', 'NumWebPurchases', 'NumCatalogPurchases',\n",
       "       'NumStorePurchases', 'NumWebVisitsMonth', 'AcceptedCmp3',\n",
       "       'AcceptedCmp4', 'AcceptedCmp5', 'AcceptedCmp1', 'AcceptedCmp2',\n",
       "       'Complain', 'Z_CostContact', 'Z_Revenue', 'Response', 'Education_Basic',\n",
       "       'Education_Graduation', 'Education_Master', 'Education_PhD',\n",
       "       'Marital_Status_Alone', 'Marital_Status_Divorced',\n",
       "       'Marital_Status_Married', 'Marital_Status_Single',\n",
       "       'Marital_Status_Together', 'Marital_Status_Widow',\n",
       "       'Marital_Status_YOLO'],\n",
       "      dtype='object')"
      ]
     },
     "execution_count": 23,
     "metadata": {},
     "output_type": "execute_result"
    }
   ],
   "source": [
    "df1.columns"
   ]
  },
  {
   "cell_type": "code",
   "execution_count": 24,
   "id": "3274ace1",
   "metadata": {
    "execution": {
     "iopub.execute_input": "2022-08-19T21:43:16.264335Z",
     "iopub.status.busy": "2022-08-19T21:43:16.263722Z",
     "iopub.status.idle": "2022-08-19T21:43:16.272284Z",
     "shell.execute_reply": "2022-08-19T21:43:16.271296Z"
    },
    "papermill": {
     "duration": 0.028738,
     "end_time": "2022-08-19T21:43:16.274735",
     "exception": false,
     "start_time": "2022-08-19T21:43:16.245997",
     "status": "completed"
    },
    "tags": []
   },
   "outputs": [],
   "source": [
    "#drop the 'Z_CostContact', 'Z_Revenue','Dt_Customer', which with no meaning\n",
    "df2 = df1.drop(['Z_CostContact', 'Z_Revenue','Dt_Customer'], axis=1)"
   ]
  },
  {
   "cell_type": "code",
   "execution_count": 25,
   "id": "de19aab0",
   "metadata": {
    "execution": {
     "iopub.execute_input": "2022-08-19T21:43:16.308221Z",
     "iopub.status.busy": "2022-08-19T21:43:16.306922Z",
     "iopub.status.idle": "2022-08-19T21:43:16.314985Z",
     "shell.execute_reply": "2022-08-19T21:43:16.314040Z"
    },
    "papermill": {
     "duration": 0.027119,
     "end_time": "2022-08-19T21:43:16.317220",
     "exception": false,
     "start_time": "2022-08-19T21:43:16.290101",
     "status": "completed"
    },
    "tags": []
   },
   "outputs": [
    {
     "data": {
      "text/plain": [
       "Index(['ID', 'Year_Birth', 'Income', 'Kidhome', 'Teenhome', 'Recency',\n",
       "       'MntWines', 'MntFruits', 'MntMeatProducts', 'MntFishProducts',\n",
       "       'MntSweetProducts', 'MntGoldProds', 'NumDealsPurchases',\n",
       "       'NumWebPurchases', 'NumCatalogPurchases', 'NumStorePurchases',\n",
       "       'NumWebVisitsMonth', 'AcceptedCmp3', 'AcceptedCmp4', 'AcceptedCmp5',\n",
       "       'AcceptedCmp1', 'AcceptedCmp2', 'Complain', 'Response',\n",
       "       'Education_Basic', 'Education_Graduation', 'Education_Master',\n",
       "       'Education_PhD', 'Marital_Status_Alone', 'Marital_Status_Divorced',\n",
       "       'Marital_Status_Married', 'Marital_Status_Single',\n",
       "       'Marital_Status_Together', 'Marital_Status_Widow',\n",
       "       'Marital_Status_YOLO'],\n",
       "      dtype='object')"
      ]
     },
     "execution_count": 25,
     "metadata": {},
     "output_type": "execute_result"
    }
   ],
   "source": [
    "df2.columns"
   ]
  },
  {
   "cell_type": "code",
   "execution_count": 26,
   "id": "30b98a1d",
   "metadata": {
    "execution": {
     "iopub.execute_input": "2022-08-19T21:43:16.350410Z",
     "iopub.status.busy": "2022-08-19T21:43:16.349247Z",
     "iopub.status.idle": "2022-08-19T21:43:16.361428Z",
     "shell.execute_reply": "2022-08-19T21:43:16.360562Z"
    },
    "papermill": {
     "duration": 0.031234,
     "end_time": "2022-08-19T21:43:16.363907",
     "exception": false,
     "start_time": "2022-08-19T21:43:16.332673",
     "status": "completed"
    },
    "tags": []
   },
   "outputs": [],
   "source": [
    "X = df2[['Income', 'Kidhome', 'Teenhome', 'Recency',\n",
    "       'MntWines', 'MntFruits', 'MntMeatProducts', 'MntFishProducts',\n",
    "       'MntSweetProducts', 'MntGoldProds', 'NumDealsPurchases',\n",
    "       'NumWebPurchases', 'NumCatalogPurchases', 'NumStorePurchases',\n",
    "       'NumWebVisitsMonth', 'AcceptedCmp3', 'AcceptedCmp4', 'AcceptedCmp5',\n",
    "       'AcceptedCmp1', 'AcceptedCmp2', 'Complain', \n",
    "       'Education_Basic', 'Education_Graduation', 'Education_Master',\n",
    "       'Education_PhD', 'Marital_Status_Alone', 'Marital_Status_Divorced',\n",
    "       'Marital_Status_Married', 'Marital_Status_Single',\n",
    "       'Marital_Status_Together', 'Marital_Status_Widow',\n",
    "       'Marital_Status_YOLO']]\n",
    "y = df2['Response']\n",
    "X_train, X_test, y_train, y_test = train_test_split(X, y, test_size=0.4, random_state=1998)"
   ]
  },
  {
   "cell_type": "code",
   "execution_count": 27,
   "id": "6f294c94",
   "metadata": {
    "execution": {
     "iopub.execute_input": "2022-08-19T21:43:16.396655Z",
     "iopub.status.busy": "2022-08-19T21:43:16.395882Z",
     "iopub.status.idle": "2022-08-19T21:43:16.412365Z",
     "shell.execute_reply": "2022-08-19T21:43:16.410049Z"
    },
    "papermill": {
     "duration": 0.036431,
     "end_time": "2022-08-19T21:43:16.415750",
     "exception": false,
     "start_time": "2022-08-19T21:43:16.379319",
     "status": "completed"
    },
    "tags": []
   },
   "outputs": [
    {
     "name": "stdout",
     "output_type": "stream",
     "text": [
      "<class 'pandas.core.frame.DataFrame'>\n",
      "Int64Index: 1329 entries, 1011 to 853\n",
      "Data columns (total 32 columns):\n",
      " #   Column                   Non-Null Count  Dtype  \n",
      "---  ------                   --------------  -----  \n",
      " 0   Income                   1329 non-null   float64\n",
      " 1   Kidhome                  1329 non-null   int64  \n",
      " 2   Teenhome                 1329 non-null   int64  \n",
      " 3   Recency                  1329 non-null   int64  \n",
      " 4   MntWines                 1329 non-null   int64  \n",
      " 5   MntFruits                1329 non-null   int64  \n",
      " 6   MntMeatProducts          1329 non-null   int64  \n",
      " 7   MntFishProducts          1329 non-null   int64  \n",
      " 8   MntSweetProducts         1329 non-null   int64  \n",
      " 9   MntGoldProds             1329 non-null   int64  \n",
      " 10  NumDealsPurchases        1329 non-null   int64  \n",
      " 11  NumWebPurchases          1329 non-null   int64  \n",
      " 12  NumCatalogPurchases      1329 non-null   int64  \n",
      " 13  NumStorePurchases        1329 non-null   int64  \n",
      " 14  NumWebVisitsMonth        1329 non-null   int64  \n",
      " 15  AcceptedCmp3             1329 non-null   int64  \n",
      " 16  AcceptedCmp4             1329 non-null   int64  \n",
      " 17  AcceptedCmp5             1329 non-null   int64  \n",
      " 18  AcceptedCmp1             1329 non-null   int64  \n",
      " 19  AcceptedCmp2             1329 non-null   int64  \n",
      " 20  Complain                 1329 non-null   int64  \n",
      " 21  Education_Basic          1329 non-null   uint8  \n",
      " 22  Education_Graduation     1329 non-null   uint8  \n",
      " 23  Education_Master         1329 non-null   uint8  \n",
      " 24  Education_PhD            1329 non-null   uint8  \n",
      " 25  Marital_Status_Alone     1329 non-null   uint8  \n",
      " 26  Marital_Status_Divorced  1329 non-null   uint8  \n",
      " 27  Marital_Status_Married   1329 non-null   uint8  \n",
      " 28  Marital_Status_Single    1329 non-null   uint8  \n",
      " 29  Marital_Status_Together  1329 non-null   uint8  \n",
      " 30  Marital_Status_Widow     1329 non-null   uint8  \n",
      " 31  Marital_Status_YOLO      1329 non-null   uint8  \n",
      "dtypes: float64(1), int64(20), uint8(11)\n",
      "memory usage: 242.7 KB\n"
     ]
    }
   ],
   "source": [
    "X_train.info()"
   ]
  },
  {
   "cell_type": "code",
   "execution_count": 28,
   "id": "afdc2973",
   "metadata": {
    "execution": {
     "iopub.execute_input": "2022-08-19T21:43:16.449769Z",
     "iopub.status.busy": "2022-08-19T21:43:16.448910Z",
     "iopub.status.idle": "2022-08-19T21:43:16.461296Z",
     "shell.execute_reply": "2022-08-19T21:43:16.460432Z"
    },
    "papermill": {
     "duration": 0.032168,
     "end_time": "2022-08-19T21:43:16.463770",
     "exception": false,
     "start_time": "2022-08-19T21:43:16.431602",
     "status": "completed"
    },
    "tags": []
   },
   "outputs": [],
   "source": [
    "sc = StandardScaler()\n",
    "X_train = sc.fit_transform(X_train)\n",
    "X_test = sc.transform(X_test)"
   ]
  },
  {
   "cell_type": "code",
   "execution_count": 29,
   "id": "872d2fc7",
   "metadata": {
    "execution": {
     "iopub.execute_input": "2022-08-19T21:43:16.496637Z",
     "iopub.status.busy": "2022-08-19T21:43:16.495970Z",
     "iopub.status.idle": "2022-08-19T21:43:16.503101Z",
     "shell.execute_reply": "2022-08-19T21:43:16.502254Z"
    },
    "papermill": {
     "duration": 0.026304,
     "end_time": "2022-08-19T21:43:16.505440",
     "exception": false,
     "start_time": "2022-08-19T21:43:16.479136",
     "status": "completed"
    },
    "tags": []
   },
   "outputs": [],
   "source": [
    "def ACC(predict, model_name):\n",
    "    accuracy = np.mean(predict == y_test)\n",
    "    print(\"Accuracy of\", model_name, \"is\", round(float(accuracy), 3))\n",
    "    #return: accuracy\n",
    "\n",
    "def TPR(predict,model_name):\n",
    "    TPR = recall_score(y_test, predict)\n",
    "    print(\"TPR of\", model_name, \"is\", round(float(TPR), 3))\n",
    "    #return:True positive rate"
   ]
  },
  {
   "cell_type": "code",
   "execution_count": 32,
   "id": "56c0bdbf",
   "metadata": {
    "execution": {
     "iopub.execute_input": "2022-08-19T21:43:16.538500Z",
     "iopub.status.busy": "2022-08-19T21:43:16.537728Z",
     "iopub.status.idle": "2022-08-19T21:43:16.549706Z",
     "shell.execute_reply": "2022-08-19T21:43:16.548684Z"
    },
    "papermill": {
     "duration": 0.031222,
     "end_time": "2022-08-19T21:43:16.552135",
     "exception": false,
     "start_time": "2022-08-19T21:43:16.520913",
     "status": "completed"
    },
    "tags": []
   },
   "outputs": [],
   "source": [
    "def Logistic_Reg():\n",
    "    lg_classifier = LogisticRegression(solver = \"lbfgs\")\n",
    "    lg_classifier.fit(X_train, y_train)\n",
    "    pred_Y = lg_classifier.predict(X_test)\n",
    "    return ACC(pred_Y,'logistic_regression :'), TPR(pred_Y,'logistic_regression :')\n",
    "\n",
    "def SVM():\n",
    "    svm_classifier = svm.SVC(kernel='linear')\n",
    "    svm_classifier.fit(X_train, y_train)\n",
    "    pred_Y = svm_classifier.predict(X_test)\n",
    "    return ACC(pred_Y, 'SVM :'), TPR(pred_Y, 'SVM :')\n",
    "\n",
    "def forest():\n",
    "    rf_classifier=RandomForestClassifier()\n",
    "    rf_classifier.fit(X_train, y_train)\n",
    "    pred_Y = rf_classifier.predict(X_test)\n",
    "    return ACC(pred_Y, 'random_forest :'), TPR(pred_Y, 'random_forest :')\n",
    "\n",
    "def knn():\n",
    "    knn_classifier = KNeighborsClassifier(n_neighbors = 7)\n",
    "    knn_classifier.fit(X_train, y_train)\n",
    "    pred_Y = knn_classifier.predict(X_test)\n",
    "    return ACC(pred_Y, 'knn :'), TPR(pred_Y, 'knn :')\n",
    "\n",
    "def NB():\n",
    "    nb_classifier = GaussianNB()\n",
    "    nb_classifier.fit(X_train, y_train)\n",
    "    pred_Y = nb_classifier.predict(X_test)\n",
    "    return ACC(pred_Y, 'Naive bayes :'), TPR(pred_Y, 'Naive bayes :')\n",
    "\n",
    "def TREE():\n",
    "    tree_classifire = tree.DecisionTreeClassifier(criterion = 'entropy').fit(X_train, y_train)\n",
    "    pred_Y = tree_classifire.predict(X_test)\n",
    "    return ACC(pred_Y, 'Decision tree :'), TPR(pred_Y, 'Decision tree :')"
   ]
  },
  {
   "cell_type": "code",
   "execution_count": 34,
   "id": "17d78134",
   "metadata": {
    "execution": {
     "iopub.execute_input": "2022-08-19T21:43:16.585321Z",
     "iopub.status.busy": "2022-08-19T21:43:16.584899Z",
     "iopub.status.idle": "2022-08-19T21:43:17.335146Z",
     "shell.execute_reply": "2022-08-19T21:43:17.332953Z"
    },
    "papermill": {
     "duration": 0.772183,
     "end_time": "2022-08-19T21:43:17.339848",
     "exception": false,
     "start_time": "2022-08-19T21:43:16.567665",
     "status": "completed"
    },
    "tags": []
   },
   "outputs": [
    {
     "name": "stdout",
     "output_type": "stream",
     "text": [
      "Accuracy of logistic_regression : is 0.886\n",
      "TPR of logistic_regression : is 0.438\n",
      "Accuracy of SVM : is 0.885\n",
      "TPR of SVM : is 0.383\n",
      "Accuracy of random_forest : is 0.869\n",
      "TPR of random_forest : is 0.227\n",
      "Accuracy of knn : is 0.875\n",
      "TPR of knn : is 0.234\n",
      "Accuracy of Naive bayes : is 0.834\n",
      "TPR of Naive bayes : is 0.477\n",
      "Accuracy of Decision tree : is 0.846\n",
      "TPR of Decision tree : is 0.469\n",
      "(None, None) (None, None) (None, None) (None, None) (None, None) (None, None)\n"
     ]
    }
   ],
   "source": [
    "print(Logistic_Reg(),\n",
    "SVM(),\n",
    "forest(),\n",
    "knn(),\n",
    "NB(),\n",
    "TREE())"
   ]
  },
  {
   "cell_type": "markdown",
   "id": "47924eda",
   "metadata": {
    "papermill": {
     "duration": 0.019931,
     "end_time": "2022-08-19T21:43:17.379161",
     "exception": false,
     "start_time": "2022-08-19T21:43:17.359230",
     "status": "completed"
    },
    "tags": []
   },
   "source": [
    "Based on the accuracy and TPR, Logistic Regression performed best. So I decided to find the feature importance through Logistic Regression.  \n",
    "But all of them have low TPR.That's make sence, because it's a imbalance dataset, so the classification model tend to predict to the majority class. But that's not I want, because in this research scenario, the company don't want to miss any one who will accept. So It’s better that we mistakenly predict a customer will accept than we mistakenly predict a customer won’t accept but actually he will."
   ]
  },
  {
   "cell_type": "code",
   "execution_count": 35,
   "id": "5c8914dd",
   "metadata": {
    "execution": {
     "iopub.execute_input": "2022-08-19T21:43:17.412454Z",
     "iopub.status.busy": "2022-08-19T21:43:17.412057Z",
     "iopub.status.idle": "2022-08-19T21:43:17.459505Z",
     "shell.execute_reply": "2022-08-19T21:43:17.458164Z"
    },
    "papermill": {
     "duration": 0.069168,
     "end_time": "2022-08-19T21:43:17.464436",
     "exception": false,
     "start_time": "2022-08-19T21:43:17.395268",
     "status": "completed"
    },
    "tags": []
   },
   "outputs": [
    {
     "name": "stdout",
     "output_type": "stream",
     "text": [
      "              precision    recall  f1-score   support\n",
      "\n",
      "           0       0.91      0.96      0.94       759\n",
      "           1       0.66      0.44      0.53       128\n",
      "\n",
      "    accuracy                           0.89       887\n",
      "   macro avg       0.78      0.70      0.73       887\n",
      "weighted avg       0.87      0.89      0.88       887\n",
      "\n"
     ]
    }
   ],
   "source": [
    "# analyse the logestic regression first\n",
    "from sklearn.metrics import confusion_matrix\n",
    "from sklearn import metrics\n",
    "clf = LogisticRegression(solver = \"lbfgs\")\n",
    "clf.fit(X_train, y_train)\n",
    "pred_Y = clf.predict(X_test)\n",
    "print(metrics.classification_report(y_test, pred_Y))"
   ]
  },
  {
   "cell_type": "code",
   "execution_count": 36,
   "id": "1908de62",
   "metadata": {
    "execution": {
     "iopub.execute_input": "2022-08-19T21:43:17.520041Z",
     "iopub.status.busy": "2022-08-19T21:43:17.519384Z",
     "iopub.status.idle": "2022-08-19T21:43:17.658673Z",
     "shell.execute_reply": "2022-08-19T21:43:17.657405Z"
    },
    "papermill": {
     "duration": 0.169914,
     "end_time": "2022-08-19T21:43:17.661130",
     "exception": false,
     "start_time": "2022-08-19T21:43:17.491216",
     "status": "completed"
    },
    "scrolled": true,
    "tags": []
   },
   "outputs": [
    {
     "data": {
      "image/png": "[encoded data removed]",
      "text/plain": [
       "<Figure size 432x288 with 1 Axes>"
      ]
     },
     "metadata": {
      "needs_background": "light"
     },
     "output_type": "display_data"
    }
   ],
   "source": [
    "%matplotlib inline\n",
    "import matplotlib.pyplot as plt\n",
    "import seaborn as sns\n",
    "from sklearn.metrics import confusion_matrix\n",
    "mat = confusion_matrix(y_test, pred_Y)\n",
    "sns.heatmap(mat, fmt='g', square=True, annot=True, cbar=False)\n",
    "plt.xlabel(\"Predicted Result\")\n",
    "plt.ylabel(\"Actual Result\")\n",
    "a, b = plt.ylim() \n",
    "a += 0.5 \n",
    "b -= 0.5 \n",
    "plt.ylim(a, b)\n",
    "plt.show()"
   ]
  },
  {
   "cell_type": "code",
   "execution_count": 37,
   "id": "9dbf7a64",
   "metadata": {
    "execution": {
     "iopub.execute_input": "2022-08-19T21:43:17.704006Z",
     "iopub.status.busy": "2022-08-19T21:43:17.702970Z",
     "iopub.status.idle": "2022-08-19T21:43:18.177164Z",
     "shell.execute_reply": "2022-08-19T21:43:18.176210Z"
    },
    "papermill": {
     "duration": 0.493825,
     "end_time": "2022-08-19T21:43:18.179397",
     "exception": false,
     "start_time": "2022-08-19T21:43:17.685572",
     "status": "completed"
    },
    "tags": []
   },
   "outputs": [
    {
     "data": {
      "image/png": "[encoded data removed]",
      "text/plain": [
       "<Figure size 1080x720 with 1 Axes>"
      ]
     },
     "metadata": {
      "needs_background": "light"
     },
     "output_type": "display_data"
    }
   ],
   "source": [
    "feature_importance = abs(clf.coef_[0])\n",
    "#feature_importance = 100.0 * (feature_importance / feature_importance.max())\n",
    "sorted_idx = np.argsort(feature_importance)\n",
    "pos = np.arange(sorted_idx.shape[0]) + .5\n",
    "\n",
    "featfig = plt.figure(figsize = (15,10))\n",
    "featax = featfig.add_subplot(1, 1, 1)\n",
    "featax.barh(pos, feature_importance[sorted_idx], align='center')\n",
    "featax.set_yticks(pos)\n",
    "featax.set_yticklabels(np.array(X.columns)[sorted_idx], fontsize=16)\n",
    "featax.set_xlabel('Feature Importance')\n",
    "\n",
    "plt.tight_layout()   \n",
    "plt.show()"
   ]
  },
  {
   "cell_type": "markdown",
   "id": "c3755933",
   "metadata": {
    "papermill": {
     "duration": 0.017432,
     "end_time": "2022-08-19T21:43:18.214651",
     "exception": false,
     "start_time": "2022-08-19T21:43:18.197219",
     "status": "completed"
    },
    "tags": []
   },
   "source": [
    "### 'Recency','MntMeatProducts','Education_phD' are the three most important feature to predict the response."
   ]
  },
  {
   "cell_type": "code",
   "execution_count": 38,
   "id": "6c99d57f",
   "metadata": {
    "execution": {
     "iopub.execute_input": "2022-08-19T21:43:18.252018Z",
     "iopub.status.busy": "2022-08-19T21:43:18.250864Z",
     "iopub.status.idle": "2022-08-19T21:43:18.608077Z",
     "shell.execute_reply": "2022-08-19T21:43:18.606992Z"
    },
    "papermill": {
     "duration": 0.378816,
     "end_time": "2022-08-19T21:43:18.610926",
     "exception": false,
     "start_time": "2022-08-19T21:43:18.232110",
     "status": "completed"
    },
    "tags": []
   },
   "outputs": [],
   "source": [
    "#Use Penalized-SVM on the original imbalanced dataset\n",
    "# we can add class_weight='balanced' to add panalize mistake\n",
    "svm_classifier = svm.SVC(class_weight='balanced', probability=True)\n",
    "svm_classifier.fit(X_train, y_train)\n",
    "pred_Y = svm_classifier.predict(X_test)"
   ]
  },
  {
   "cell_type": "code",
   "execution_count": 39,
   "id": "c1974a46",
   "metadata": {
    "execution": {
     "iopub.execute_input": "2022-08-19T21:43:18.648614Z",
     "iopub.status.busy": "2022-08-19T21:43:18.647424Z",
     "iopub.status.idle": "2022-08-19T21:43:18.769278Z",
     "shell.execute_reply": "2022-08-19T21:43:18.767636Z"
    },
    "papermill": {
     "duration": 0.144488,
     "end_time": "2022-08-19T21:43:18.772896",
     "exception": false,
     "start_time": "2022-08-19T21:43:18.628408",
     "status": "completed"
    },
    "tags": []
   },
   "outputs": [
    {
     "data": {
      "image/png": "[encoded data removed]",
      "text/plain": [
       "<Figure size 432x288 with 1 Axes>"
      ]
     },
     "metadata": {
      "needs_background": "light"
     },
     "output_type": "display_data"
    }
   ],
   "source": [
    "#The performence of penalized SVM\n",
    "%matplotlib inline\n",
    "import matplotlib.pyplot as plt\n",
    "import seaborn as sns\n",
    "from sklearn.metrics import confusion_matrix\n",
    "mat = confusion_matrix(y_test, pred_Y)\n",
    "sns.heatmap(mat, fmt='g', square=True, annot=True, cbar=False)\n",
    "plt.xlabel(\"Predicted Result\")\n",
    "plt.ylabel(\"Actual Result\")\n",
    "a, b = plt.ylim() \n",
    "a += 0.5 \n",
    "b -= 0.5 \n",
    "plt.ylim(a, b)\n",
    "plt.show()"
   ]
  },
  {
   "cell_type": "code",
   "execution_count": 40,
   "id": "523c6ff5",
   "metadata": {
    "execution": {
     "iopub.execute_input": "2022-08-19T21:43:18.819393Z",
     "iopub.status.busy": "2022-08-19T21:43:18.818623Z",
     "iopub.status.idle": "2022-08-19T21:43:18.829393Z",
     "shell.execute_reply": "2022-08-19T21:43:18.828257Z"
    },
    "papermill": {
     "duration": 0.032183,
     "end_time": "2022-08-19T21:43:18.831622",
     "exception": false,
     "start_time": "2022-08-19T21:43:18.799439",
     "status": "completed"
    },
    "tags": []
   },
   "outputs": [
    {
     "name": "stdout",
     "output_type": "stream",
     "text": [
      "              precision    recall  f1-score   support\n",
      "\n",
      "           0       0.95      0.85      0.89       759\n",
      "           1       0.44      0.73      0.55       128\n",
      "\n",
      "    accuracy                           0.83       887\n",
      "   macro avg       0.70      0.79      0.72       887\n",
      "weighted avg       0.88      0.83      0.85       887\n",
      "\n"
     ]
    }
   ],
   "source": [
    "print(metrics.classification_report(y_test, pred_Y))"
   ]
  },
  {
   "cell_type": "markdown",
   "id": "ba5a3d0d",
   "metadata": {
    "papermill": {
     "duration": 0.017464,
     "end_time": "2022-08-19T21:43:18.867012",
     "exception": false,
     "start_time": "2022-08-19T21:43:18.849548",
     "status": "completed"
    },
    "tags": []
   },
   "source": [
    "accuracy rate: 0.83  \n",
    "sensitivity rate: 0.73  \n",
    "specificity rate: 0.85  \n",
    "precision: 0.44  \n",
    "balanced accuracy:0.79  "
   ]
  }
 ],
 "metadata": {
  "kernelspec": {
   "display_name": "Python 3 (ipykernel)",
   "language": "python",
   "name": "python3"
  },
  "language_info": {
   "codemirror_mode": {
    "name": "ipython",
    "version": 3
   },
   "file_extension": ".py",
   "mimetype": "text/x-python",
   "name": "python",
   "nbconvert_exporter": "python",
   "pygments_lexer": "ipython3",
   "version": "3.9.12"
  },
  "papermill": {
   "default_parameters": {},
   "duration": 16.859438,
   "end_time": "2022-08-19T21:43:19.706007",
   "environment_variables": {},
   "exception": null,
   "input_path": "__notebook__.ipynb",
   "output_path": "__notebook__.ipynb",
   "parameters": {},
   "start_time": "2022-08-19T21:43:02.846569",
   "version": "2.3.4"
  }
 },
 "nbformat": 4,
 "nbformat_minor": 5
}
