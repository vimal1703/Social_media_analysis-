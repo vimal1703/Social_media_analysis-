{
 "cells": [
  {
   "cell_type": "markdown",
   "metadata": {},
   "source": [
    "# Retrieving the user’s LinkedIn Profile and analysing the profile’s connections"
   ]
  },
  {
   "cell_type": "markdown",
   "metadata": {},
   "source": [
    "https://github.com/mikhailklassen/Mining-the-Social-Web-3rd-Edition/blob/master/notebooks/Chapter%204%20-%20Mining%20LinkedIn.ipynb"
   ]
  },
  {
   "cell_type": "markdown",
   "metadata": {
    "id": "0IY2v5qyukJA"
   },
   "source": [
    "### Profile Analysis"
   ]
  },
  {
   "cell_type": "code",
   "execution_count": 1,
   "metadata": {
    "id": "v4KZYkvElVxM"
   },
   "outputs": [],
   "source": [
    "import os\n",
    "import csv\n",
    "import numpy as np\n",
    "\n",
    "# Point this to your 'Connections.csv' file.\n",
    "CSV_FILE = os.path.join('resources', 'ch04-linkedin', 'Connections.csv')\n",
    "\n",
    "csvReader = csv.DictReader(open(\"Connections.csv\"), delimiter=',', quotechar='\"')\n",
    "contacts = [row for row in csvReader]"
   ]
  },
  {
   "cell_type": "markdown",
   "metadata": {
    "id": "xSYo9DueqsCh"
   },
   "source": [
    "### Simple normalization of company suffixes from address book data\n"
   ]
  },
  {
   "cell_type": "code",
   "execution_count": 2,
   "metadata": {
    "colab": {
     "base_uri": "https://localhost:8080/"
    },
    "id": "lzEtYyYilVz9",
    "outputId": "8ca8dff5-5a30-43e5-f30f-6a9b87b6d5e9"
   },
   "outputs": [
    {
     "name": "stdout",
     "output_type": "stream",
     "text": [
      "+--------------------------------------------------+------+\n",
      "| Company                                          | Freq |\n",
      "+--------------------------------------------------+------+\n",
      "| Bishop Heber College, Tiruchirappalli - 620 017. | 9    |\n",
      "+--------------------------------------------------+------+\n"
     ]
    }
   ],
   "source": [
    "from prettytable import PrettyTable # pip install prettytable\n",
    "from collections import Counter\n",
    "from operator import itemgetter\n",
    "\n",
    "# Define a set of transforms that converts the first item\n",
    "# to the second item. Here, we're simply handling some\n",
    "# commonly known abbreviations, stripping off common suffixes, \n",
    "# etc.\n",
    "\n",
    "transforms = [(', Inc.', ''), (', Inc', ''), (', LLC', ''), (', LLP', ''),\n",
    "               (' LLC', ''), (' Inc.', ''), (' Inc', '')]\n",
    "\n",
    "companies = [c['Company'].strip() for c in contacts if c['Company'].strip() != '']\n",
    "\n",
    "for i, _ in enumerate(companies):\n",
    "    for transform in transforms:\n",
    "        companies[i] = companies[i].replace(*transform)\n",
    "\n",
    "pt = PrettyTable(field_names=['Company', 'Freq'])\n",
    "pt.align = 'l'\n",
    "c = Counter(companies)\n",
    "\n",
    "[pt.add_row([company, freq]) for (company, freq) in sorted(c.items(), key=itemgetter(1), reverse=True) if freq > 1]\n",
    "\n",
    "print(pt)\n"
   ]
  },
  {
   "cell_type": "markdown",
   "metadata": {
    "id": "rAdavuq_qzlo"
   },
   "source": [
    "### Standardizing common job titles and computing their frequencies"
   ]
  },
  {
   "cell_type": "code",
   "execution_count": 3,
   "metadata": {
    "colab": {
     "base_uri": "https://localhost:8080/"
    },
    "id": "whPJLG58RssK",
    "outputId": "00c55b4b-5400-4b46-cd3b-7ad1250ba5d8"
   },
   "outputs": [
    {
     "name": "stdout",
     "output_type": "stream",
     "text": [
      "+---------------------+------+\n",
      "| Job Title           | Freq |\n",
      "+---------------------+------+\n",
      "| Assistant Professor | 3    |\n",
      "| Guest Lecturer      | 2    |\n",
      "+---------------------+------+\n",
      "+-----------+------+\n",
      "| Token     | Freq |\n",
      "+-----------+------+\n",
      "| Professor | 5    |\n",
      "| Associate | 4    |\n",
      "| Data      | 3    |\n",
      "| Assistant | 3    |\n",
      "| Technical | 2    |\n",
      "| Intern    | 2    |\n",
      "| and       | 2    |\n",
      "| Founder   | 2    |\n",
      "| Business  | 2    |\n",
      "| Guest     | 2    |\n",
      "| Lecturer  | 2    |\n",
      "| Student   | 2    |\n",
      "| Trainee   | 2    |\n",
      "+-----------+------+\n"
     ]
    }
   ],
   "source": [
    "transforms = [\n",
    "    ('Sr.', 'Senior'),\n",
    "    ('Sr', 'Senior'),\n",
    "    ('Jr.', 'Junior'),\n",
    "    ('Jr', 'Junior'),\n",
    "    ('CEO', 'Chief Executive Officer'),\n",
    "    ('COO', 'Chief Operating Officer'),\n",
    "    ('CTO', 'Chief Technology Officer'),\n",
    "    ('CFO', 'Chief Finance Officer'),\n",
    "    ('VP', 'Vice President'),\n",
    "    ]\n",
    "\n",
    "# Read in a list of titles and split apart\n",
    "# any combined titles like \"President/CEO.\"\n",
    "# Other variations could be handled as well, such\n",
    "# as \"President & CEO\", \"President and CEO\", etc.\n",
    "\n",
    "titles = []\n",
    "for contact in contacts:\n",
    "    titles.extend([t.strip() for t in contact['Position'].split('/')\n",
    "                  if contact['Position'].strip() != ''])\n",
    "\n",
    "# Replace common/known abbreviations\n",
    "\n",
    "for i, _ in enumerate(titles):\n",
    "    for transform in transforms:\n",
    "        titles[i] = titles[i].replace(*transform)\n",
    "\n",
    "# Print out a table of titles sorted by frequency\n",
    "\n",
    "pt = PrettyTable(field_names=['Job Title', 'Freq'])\n",
    "pt.align = 'l'\n",
    "c = Counter(titles)\n",
    "[pt.add_row([title, freq]) \n",
    " for (title, freq) in sorted(c.items(), key=itemgetter(1), reverse=True) \n",
    "     if freq > 1]\n",
    "print(pt)\n",
    "\n",
    "# Print out a table of tokens sorted by frequency\n",
    "\n",
    "tokens = []\n",
    "for title in titles:\n",
    "    tokens.extend([t.strip(',') for t in title.split()])\n",
    "pt = PrettyTable(field_names=['Token', 'Freq'])\n",
    "pt.align = 'l'\n",
    "c = Counter(tokens)\n",
    "[pt.add_row([token, freq]) \n",
    " for (token, freq) in sorted(c.items(), key=itemgetter(1), reverse=True) \n",
    "     if freq > 1 and len(token) > 2]\n",
    "print(pt)"
   ]
  }
 ],
 "metadata": {
  "colab": {
   "collapsed_sections": [],
   "name": "SMA_Lab6_42.ipynb",
   "provenance": []
  },
  "kernelspec": {
   "display_name": "Python 3 (ipykernel)",
   "language": "python",
   "name": "python3"
  },
  "language_info": {
   "codemirror_mode": {
    "name": "ipython",
    "version": 3
   },
   "file_extension": ".py",
   "mimetype": "text/x-python",
   "name": "python",
   "nbconvert_exporter": "python",
   "pygments_lexer": "ipython3",
   "version": "3.9.12"
  }
 },
 "nbformat": 4,
 "nbformat_minor": 1
}
