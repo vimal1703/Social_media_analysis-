{
 "cells": [
  {
   "cell_type": "markdown",
   "id": "1dce277c",
   "metadata": {},
   "source": [
    "# Querying user’s connection information using Facebook Graph API and retrieving feed and engagement"
   ]
  },
  {
   "cell_type": "markdown",
   "id": "8eb6b15e",
   "metadata": {},
   "source": [
    "### Step 1:\n",
    "\n",
    "To get started, log in to your Facebook account and go\n",
    "to https://developers.facebook.com/tools/explorer/ to obtain an ACCESS_TOKEN, and then\n",
    "paste it into the code cell below."
   ]
  },
  {
   "cell_type": "code",
   "execution_count": 1,
   "id": "349b0757",
   "metadata": {},
   "outputs": [],
   "source": [
    "ACCESS_TOKEN = \"EAAU2wEcKEWkBAKoWlQPsiLRDjXOFZCfmajqw5kA11Ye2Ej3vmoMDzyvaf9fVfVZAjCJycXCGGzS8lQnxZA5hSf22vtg48Nkzs3IS1EkZBcGk91SVQaNe4NOQhXmhZC79OrDr67XdclIT9Psxo0PXb3N8go9W3ds7sCSNurGsoVMiMlzsDnBzCxZCZBXnNH6ZBfjd1eKfv2m5CGwy8dV97geN\""
   ]
  },
  {
   "cell_type": "markdown",
   "id": "516f3b59",
   "metadata": {},
   "source": [
    "### Step 2: Install the necessary libraries"
   ]
  },
  {
   "cell_type": "code",
   "execution_count": 2,
   "id": "c19092cc",
   "metadata": {},
   "outputs": [],
   "source": [
    "import facebook\n",
    "import urllib3\n",
    "import requests\n",
    "import json"
   ]
  },
  {
   "cell_type": "markdown",
   "id": "9842ce1d",
   "metadata": {},
   "source": [
    "### Step 3: Querying the Graph API with Python"
   ]
  },
  {
   "cell_type": "code",
   "execution_count": 3,
   "id": "e78ac1f5",
   "metadata": {},
   "outputs": [
    {
     "name": "stdout",
     "output_type": "stream",
     "text": [
      "{\n",
      " \"name\": \"Sharon Sam Simpson\",\n",
      " \"id\": \"436746818381817\"\n",
      "}\n"
     ]
    }
   ],
   "source": [
    "def pp(o):\n",
    "    print(json.dumps(o, indent=1))\n",
    "g = facebook.GraphAPI(ACCESS_TOKEN, version='2.10')\n",
    "pp(g.get_object('me'))"
   ]
  },
  {
   "cell_type": "markdown",
   "id": "a9a2f606",
   "metadata": {},
   "source": [
    "### Step 4: Get the user's connection names - likes , friends, feed, groups- This may require permissions"
   ]
  },
  {
   "cell_type": "code",
   "execution_count": 4,
   "id": "4c8130df",
   "metadata": {},
   "outputs": [
    {
     "name": "stdout",
     "output_type": "stream",
     "text": [
      "{\n",
      " \"data\": [\n",
      "  {\n",
      "   \"name\": \"Aadhyatmika Nidhi\",\n",
      "   \"id\": \"101049608506026\",\n",
      "   \"created_time\": \"2022-05-21T02:29:00+0000\"\n",
      "  },\n",
      "  {\n",
      "   \"name\": \"Trichy_Gifts and Frames\",\n",
      "   \"id\": \"110440311276819\",\n",
      "   \"created_time\": \"2022-05-21T02:28:59+0000\"\n",
      "  },\n",
      "  {\n",
      "   \"name\": \"Substratum of Biology\",\n",
      "   \"id\": \"108144535235413\",\n",
      "   \"created_time\": \"2022-05-21T02:28:51+0000\"\n",
      "  },\n",
      "  {\n",
      "   \"name\": \"Guy Penrod\",\n",
      "   \"id\": \"145067832177604\",\n",
      "   \"created_time\": \"2021-02-15T08:18:05+0000\"\n",
      "  },\n",
      "  {\n",
      "   \"name\": \"St. John's Vestry\",\n",
      "   \"id\": \"141527309359\",\n",
      "   \"created_time\": \"2021-02-14T08:19:26+0000\"\n",
      "  }\n",
      " ],\n",
      " \"paging\": {\n",
      "  \"cursors\": {\n",
      "   \"before\": \"MTAxMDQ5NjA4NTA2MDI2\",\n",
      "   \"after\": \"MTQxNTI3MzA5MzU5\"\n",
      "  }\n",
      " }\n",
      "}\n",
      "{\n",
      " \"data\": [],\n",
      " \"summary\": {\n",
      "  \"total_count\": 107\n",
      " }\n",
      "}\n",
      "{\n",
      " \"data\": [\n",
      "  {\n",
      "   \"created_time\": \"2022-03-03T09:13:00+0000\",\n",
      "   \"id\": \"436746818381817_340296578026842\"\n",
      "  },\n",
      "  {\n",
      "   \"created_time\": \"2021-08-01T02:28:38+0000\",\n",
      "   \"id\": \"436746818381817_211877954202039\"\n",
      "  },\n",
      "  {\n",
      "   \"created_time\": \"2021-01-08T09:34:55+0000\",\n",
      "   \"id\": \"436746818381817_104151881641314\"\n",
      "  },\n",
      "  {\n",
      "   \"created_time\": \"2001-05-11T07:00:00+0000\",\n",
      "   \"id\": \"436746818381817_104150441641458\"\n",
      "  }\n",
      " ],\n",
      " \"paging\": {\n",
      "  \"previous\": \"https://graph.facebook.com/v14.0/436746818381817/feed?access_token=EAAU2wEcKEWkBAKoWlQPsiLRDjXOFZCfmajqw5kA11Ye2Ej3vmoMDzyvaf9fVfVZAjCJycXCGGzS8lQnxZA5hSf22vtg48Nkzs3IS1EkZBcGk91SVQaNe4NOQhXmhZC79OrDr67XdclIT9Psxo0PXb3N8go9W3ds7sCSNurGsoVMiMlzsDnBzCxZCZBXnNH6ZBfjd1eKfv2m5CGwy8dV97geN&__previous=1&since=1646298780&until&__paging_token=enc_AdAG017gZABEQ6HrvSnUwtlveeCDMZCVuTzZClcZBa7J0ZBArcr1EdoQUm65e9QGqfmgBza7iulEuZCCRPCjP9F0ZBTrPH0lcsFtpaY9yIdO5TGE2pm73XRjyBRxRqZBek9prRLjaCZAUyjQsZB3ZC7ZA0wRIFa7IgJf\",\n",
      "  \"next\": \"https://graph.facebook.com/v14.0/436746818381817/feed?access_token=EAAU2wEcKEWkBAKoWlQPsiLRDjXOFZCfmajqw5kA11Ye2Ej3vmoMDzyvaf9fVfVZAjCJycXCGGzS8lQnxZA5hSf22vtg48Nkzs3IS1EkZBcGk91SVQaNe4NOQhXmhZC79OrDr67XdclIT9Psxo0PXb3N8go9W3ds7sCSNurGsoVMiMlzsDnBzCxZCZBXnNH6ZBfjd1eKfv2m5CGwy8dV97geN&until=989564400&since&__paging_token=enc_AdAyE1ZATIT35npWrNS59FXzzGNDdwCrMq6y9BkO1fbDlPtVAEHCUQR1zQ5ZAqjehMwnJZCgwwHXqqrl5dSMsmizXaLb8h7i7vJcr1sTEEkKifFfijd8k127Ss0zysDQVZBx5HCryjSbetxAJlrIGSmopi6J&__previous\"\n",
      " }\n",
      "}\n",
      "{\n",
      " \"data\": []\n",
      "}\n"
     ]
    }
   ],
   "source": [
    "pp(g.get_connections(id='me', connection_name='likes'))\n",
    "pp(g.get_connections(id='me', connection_name='friends'))\n",
    "pp(g.get_connections(id='me', connection_name='feed'))\n",
    "pp(g.get_connections(id='me', connection_name='groups'))"
   ]
  },
  {
   "cell_type": "markdown",
   "id": "80523de8",
   "metadata": {},
   "source": [
    "### Step 5: Get Information about a feed in your facebook page"
   ]
  },
  {
   "cell_type": "code",
   "execution_count": 5,
   "id": "59e829c5",
   "metadata": {},
   "outputs": [
    {
     "name": "stdout",
     "output_type": "stream",
     "text": [
      "{\n",
      " \"data\": [\n",
      "  {\n",
      "   \"id\": \"436746818381817_340296578026842\"\n",
      "  },\n",
      "  {\n",
      "   \"id\": \"436746818381817_211877954202039\"\n",
      "  },\n",
      "  {\n",
      "   \"id\": \"436746818381817_104151881641314\"\n",
      "  },\n",
      "  {\n",
      "   \"id\": \"436746818381817_104150441641458\"\n",
      "  }\n",
      " ],\n",
      " \"paging\": {\n",
      "  \"previous\": \"https://graph.facebook.com/v14.0/436746818381817/feed?access_token=EAAU2wEcKEWkBAKoWlQPsiLRDjXOFZCfmajqw5kA11Ye2Ej3vmoMDzyvaf9fVfVZAjCJycXCGGzS8lQnxZA5hSf22vtg48Nkzs3IS1EkZBcGk91SVQaNe4NOQhXmhZC79OrDr67XdclIT9Psxo0PXb3N8go9W3ds7sCSNurGsoVMiMlzsDnBzCxZCZBXnNH6ZBfjd1eKfv2m5CGwy8dV97geN&fields=information&__previous=1&since=1646298780&until&__paging_token=enc_AdAG017gZABEQ6HrvSnUwtlveeCDMZCVuTzZClcZBa7J0ZBArcr1EdoQUm65e9QGqfmgBza7iulEuZCCRPCjP9F0ZBTrPH0lcsFtpaY9yIdO5TGE2pm73XRjyBRxRqZBek9prRLjaCZAUyjQsZB3ZC7ZA0wRIFa7IgJf\",\n",
      "  \"next\": \"https://graph.facebook.com/v14.0/436746818381817/feed?access_token=EAAU2wEcKEWkBAKoWlQPsiLRDjXOFZCfmajqw5kA11Ye2Ej3vmoMDzyvaf9fVfVZAjCJycXCGGzS8lQnxZA5hSf22vtg48Nkzs3IS1EkZBcGk91SVQaNe4NOQhXmhZC79OrDr67XdclIT9Psxo0PXb3N8go9W3ds7sCSNurGsoVMiMlzsDnBzCxZCZBXnNH6ZBfjd1eKfv2m5CGwy8dV97geN&fields=information&until=989564400&since&__paging_token=enc_AdAyE1ZATIT35npWrNS59FXzzGNDdwCrMq6y9BkO1fbDlPtVAEHCUQR1zQ5ZAqjehMwnJZCgwwHXqqrl5dSMsmizXaLb8h7i7vJcr1sTEEkKifFfijd8k127Ss0zysDQVZBx5HCryjSbetxAJlrIGSmopi6J&__previous\"\n",
      " }\n",
      "}\n"
     ]
    }
   ],
   "source": [
    "pp(g.get_connections(id='me', connection_name='feed', fields='information', limit='100'))"
   ]
  },
  {
   "cell_type": "markdown",
   "id": "0f1351de",
   "metadata": {},
   "source": [
    "### Step 6: Get the metrics towards engagement of connections towards your Facebook post"
   ]
  },
  {
   "cell_type": "code",
   "execution_count": 6,
   "id": "13ef1c03",
   "metadata": {},
   "outputs": [
    {
     "name": "stdout",
     "output_type": "stream",
     "text": [
      "{\n",
      " \"data\": [\n",
      "  {\n",
      "   \"created_time\": \"2022-03-03T09:13:00+0000\",\n",
      "   \"id\": \"436746818381817_340296578026842\"\n",
      "  },\n",
      "  {\n",
      "   \"created_time\": \"2021-08-01T02:28:38+0000\",\n",
      "   \"id\": \"436746818381817_211877954202039\"\n",
      "  },\n",
      "  {\n",
      "   \"created_time\": \"2021-01-08T09:34:55+0000\",\n",
      "   \"id\": \"436746818381817_104151881641314\"\n",
      "  },\n",
      "  {\n",
      "   \"caption\": \"Born on 11 May 2001\",\n",
      "   \"created_time\": \"2001-05-11T07:00:00+0000\",\n",
      "   \"id\": \"436746818381817_104150441641458\"\n",
      "  }\n",
      " ],\n",
      " \"paging\": {\n",
      "  \"previous\": \"https://graph.facebook.com/v14.0/436746818381817/posts?access_token=EAAU2wEcKEWkBAKoWlQPsiLRDjXOFZCfmajqw5kA11Ye2Ej3vmoMDzyvaf9fVfVZAjCJycXCGGzS8lQnxZA5hSf22vtg48Nkzs3IS1EkZBcGk91SVQaNe4NOQhXmhZC79OrDr67XdclIT9Psxo0PXb3N8go9W3ds7sCSNurGsoVMiMlzsDnBzCxZCZBXnNH6ZBfjd1eKfv2m5CGwy8dV97geN&fields=caption%2Ccreated_time%2Cdescription&__previous=1&since=1646298780&until&__paging_token=enc_AdAG017gZABEQ6HrvSnUwtlveeCDMZCVuTzZClcZBa7J0ZBArcr1EdoQUm65e9QGqfmgBza7iulEuZCCRPCjP9F0ZBTrPH0lcsFtpaY9yIdO5TGE2pm73XRjyBRxRqZBek9prRLjaCZAUyjQsZB3ZC7ZA0wRIFa7IgJf\",\n",
      "  \"next\": \"https://graph.facebook.com/v14.0/436746818381817/posts?access_token=EAAU2wEcKEWkBAKoWlQPsiLRDjXOFZCfmajqw5kA11Ye2Ej3vmoMDzyvaf9fVfVZAjCJycXCGGzS8lQnxZA5hSf22vtg48Nkzs3IS1EkZBcGk91SVQaNe4NOQhXmhZC79OrDr67XdclIT9Psxo0PXb3N8go9W3ds7sCSNurGsoVMiMlzsDnBzCxZCZBXnNH6ZBfjd1eKfv2m5CGwy8dV97geN&fields=caption%2Ccreated_time%2Cdescription&until=989564400&since&__paging_token=enc_AdAyE1ZATIT35npWrNS59FXzzGNDdwCrMq6y9BkO1fbDlPtVAEHCUQR1zQ5ZAqjehMwnJZCgwwHXqqrl5dSMsmizXaLb8h7i7vJcr1sTEEkKifFfijd8k127Ss0zysDQVZBx5HCryjSbetxAJlrIGSmopi6J&__previous\"\n",
      " }\n",
      "}\n"
     ]
    }
   ],
   "source": [
    "pp(g.get_connections(id='me', connection_name='posts', fields='caption,created_time,description', limit='100'))"
   ]
  },
  {
   "cell_type": "code",
   "execution_count": null,
   "id": "4499cee1",
   "metadata": {},
   "outputs": [],
   "source": []
  }
 ],
 "metadata": {
  "kernelspec": {
   "display_name": "Python 3 (ipykernel)",
   "language": "python",
   "name": "python3"
  },
  "language_info": {
   "codemirror_mode": {
    "name": "ipython",
    "version": 3
   },
   "file_extension": ".py",
   "mimetype": "text/x-python",
   "name": "python",
   "nbconvert_exporter": "python",
   "pygments_lexer": "ipython3",
   "version": "3.9.12"
  }
 },
 "nbformat": 4,
 "nbformat_minor": 5
}
