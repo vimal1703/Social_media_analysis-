{
 "cells": [
  {
   "cell_type": "markdown",
   "metadata": {},
   "source": [
    "# Amazon Reviews recommender system"
   ]
  },
  {
   "cell_type": "markdown",
   "metadata": {},
   "source": [
    "### Step.1:"
   ]
  },
  {
   "cell_type": "markdown",
   "metadata": {},
   "source": [
    "Download the dataset https://www.kaggle.com/datasets/skillsmuggler/amazon-ratings"
   ]
  },
  {
   "cell_type": "markdown",
   "metadata": {},
   "source": [
    "### Step-2:"
   ]
  },
  {
   "cell_type": "code",
   "execution_count": 1,
   "metadata": {},
   "outputs": [],
   "source": [
    "#importing the packages \n",
    "import pandas as pd\n",
    "import matplotlib.pyplot as plt\n",
    "%matplotlib inline\n",
    "\n",
    "import warnings\n",
    "warnings.filterwarnings('ignore')"
   ]
  },
  {
   "cell_type": "code",
   "execution_count": 2,
   "metadata": {},
   "outputs": [
    {
     "data": {
      "text/html": [
       "<div>\n",
       "<style scoped>\n",
       "    .dataframe tbody tr th:only-of-type {\n",
       "        vertical-align: middle;\n",
       "    }\n",
       "\n",
       "    .dataframe tbody tr th {\n",
       "        vertical-align: top;\n",
       "    }\n",
       "\n",
       "    .dataframe thead th {\n",
       "        text-align: right;\n",
       "    }\n",
       "</style>\n",
       "<table border=\"1\" class=\"dataframe\">\n",
       "  <thead>\n",
       "    <tr style=\"text-align: right;\">\n",
       "      <th></th>\n",
       "      <th>UserId</th>\n",
       "      <th>ProductId</th>\n",
       "      <th>Rating</th>\n",
       "      <th>Timestamp</th>\n",
       "    </tr>\n",
       "  </thead>\n",
       "  <tbody>\n",
       "    <tr>\n",
       "      <th>0</th>\n",
       "      <td>A39HTATAQ9V7YF</td>\n",
       "      <td>205616461</td>\n",
       "      <td>5</td>\n",
       "      <td>1369699200</td>\n",
       "    </tr>\n",
       "    <tr>\n",
       "      <th>1</th>\n",
       "      <td>A3JM6GV9MNOF9X</td>\n",
       "      <td>558925278</td>\n",
       "      <td>3</td>\n",
       "      <td>1355443200</td>\n",
       "    </tr>\n",
       "    <tr>\n",
       "      <th>2</th>\n",
       "      <td>A1Z513UWSAAO0F</td>\n",
       "      <td>558925278</td>\n",
       "      <td>5</td>\n",
       "      <td>1404691200</td>\n",
       "    </tr>\n",
       "    <tr>\n",
       "      <th>3</th>\n",
       "      <td>A1WMRR494NWEWV</td>\n",
       "      <td>733001998</td>\n",
       "      <td>4</td>\n",
       "      <td>1382572800</td>\n",
       "    </tr>\n",
       "    <tr>\n",
       "      <th>4</th>\n",
       "      <td>A3IAAVS479H7M7</td>\n",
       "      <td>737104473</td>\n",
       "      <td>1</td>\n",
       "      <td>1274227200</td>\n",
       "    </tr>\n",
       "  </tbody>\n",
       "</table>\n",
       "</div>"
      ],
      "text/plain": [
       "           UserId  ProductId  Rating   Timestamp\n",
       "0  A39HTATAQ9V7YF  205616461       5  1369699200\n",
       "1  A3JM6GV9MNOF9X  558925278       3  1355443200\n",
       "2  A1Z513UWSAAO0F  558925278       5  1404691200\n",
       "3  A1WMRR494NWEWV  733001998       4  1382572800\n",
       "4  A3IAAVS479H7M7  737104473       1  1274227200"
      ]
     },
     "execution_count": 2,
     "metadata": {},
     "output_type": "execute_result"
    }
   ],
   "source": [
    "df = pd.read_csv(\"ratings_beauty.csv\")\n",
    "df.head()"
   ]
  },
  {
   "cell_type": "code",
   "execution_count": 3,
   "metadata": {},
   "outputs": [
    {
     "name": "stdout",
     "output_type": "stream",
     "text": [
      "There are 1048575 rows and 4 columns.\n"
     ]
    }
   ],
   "source": [
    "#shape of the dataset\n",
    "print(\"There are\",df.shape[0], \"rows and\", df.shape[1],\"columns.\")"
   ]
  },
  {
   "cell_type": "code",
   "execution_count": 4,
   "metadata": {},
   "outputs": [
    {
     "name": "stdout",
     "output_type": "stream",
     "text": [
      "<class 'pandas.core.frame.DataFrame'>\n",
      "RangeIndex: 1048575 entries, 0 to 1048574\n",
      "Data columns (total 4 columns):\n",
      "UserId       1048575 non-null object\n",
      "ProductId    1048575 non-null object\n",
      "Rating       1048575 non-null int64\n",
      "Timestamp    1048575 non-null int64\n",
      "dtypes: int64(2), object(2)\n",
      "memory usage: 32.0+ MB\n"
     ]
    }
   ],
   "source": [
    "#info method\n",
    "df.info()"
   ]
  },
  {
   "cell_type": "code",
   "execution_count": 5,
   "metadata": {},
   "outputs": [
    {
     "data": {
      "text/html": [
       "<div>\n",
       "<style scoped>\n",
       "    .dataframe tbody tr th:only-of-type {\n",
       "        vertical-align: middle;\n",
       "    }\n",
       "\n",
       "    .dataframe tbody tr th {\n",
       "        vertical-align: top;\n",
       "    }\n",
       "\n",
       "    .dataframe thead th {\n",
       "        text-align: right;\n",
       "    }\n",
       "</style>\n",
       "<table border=\"1\" class=\"dataframe\">\n",
       "  <thead>\n",
       "    <tr style=\"text-align: right;\">\n",
       "      <th></th>\n",
       "      <th>UserId</th>\n",
       "      <th>ProductId</th>\n",
       "      <th>Rating</th>\n",
       "      <th>Timestamp</th>\n",
       "    </tr>\n",
       "  </thead>\n",
       "  <tbody>\n",
       "    <tr>\n",
       "      <th>count</th>\n",
       "      <td>1048575</td>\n",
       "      <td>1048575</td>\n",
       "      <td>1.048575e+06</td>\n",
       "      <td>1.048575e+06</td>\n",
       "    </tr>\n",
       "    <tr>\n",
       "      <th>unique</th>\n",
       "      <td>736653</td>\n",
       "      <td>97987</td>\n",
       "      <td>NaN</td>\n",
       "      <td>NaN</td>\n",
       "    </tr>\n",
       "    <tr>\n",
       "      <th>top</th>\n",
       "      <td>A3M174IC0VXOS2</td>\n",
       "      <td>B001MA0QY2</td>\n",
       "      <td>NaN</td>\n",
       "      <td>NaN</td>\n",
       "    </tr>\n",
       "    <tr>\n",
       "      <th>freq</th>\n",
       "      <td>278</td>\n",
       "      <td>7533</td>\n",
       "      <td>NaN</td>\n",
       "      <td>NaN</td>\n",
       "    </tr>\n",
       "    <tr>\n",
       "      <th>mean</th>\n",
       "      <td>NaN</td>\n",
       "      <td>NaN</td>\n",
       "      <td>4.176864e+00</td>\n",
       "      <td>1.345636e+09</td>\n",
       "    </tr>\n",
       "    <tr>\n",
       "      <th>std</th>\n",
       "      <td>NaN</td>\n",
       "      <td>NaN</td>\n",
       "      <td>1.306543e+00</td>\n",
       "      <td>5.567113e+07</td>\n",
       "    </tr>\n",
       "    <tr>\n",
       "      <th>min</th>\n",
       "      <td>NaN</td>\n",
       "      <td>NaN</td>\n",
       "      <td>1.000000e+00</td>\n",
       "      <td>9.087552e+08</td>\n",
       "    </tr>\n",
       "    <tr>\n",
       "      <th>25%</th>\n",
       "      <td>NaN</td>\n",
       "      <td>NaN</td>\n",
       "      <td>4.000000e+00</td>\n",
       "      <td>1.322438e+09</td>\n",
       "    </tr>\n",
       "    <tr>\n",
       "      <th>50%</th>\n",
       "      <td>NaN</td>\n",
       "      <td>NaN</td>\n",
       "      <td>5.000000e+00</td>\n",
       "      <td>1.362960e+09</td>\n",
       "    </tr>\n",
       "    <tr>\n",
       "      <th>75%</th>\n",
       "      <td>NaN</td>\n",
       "      <td>NaN</td>\n",
       "      <td>5.000000e+00</td>\n",
       "      <td>1.385856e+09</td>\n",
       "    </tr>\n",
       "    <tr>\n",
       "      <th>max</th>\n",
       "      <td>NaN</td>\n",
       "      <td>NaN</td>\n",
       "      <td>5.000000e+00</td>\n",
       "      <td>1.406074e+09</td>\n",
       "    </tr>\n",
       "  </tbody>\n",
       "</table>\n",
       "</div>"
      ],
      "text/plain": [
       "                UserId   ProductId        Rating     Timestamp\n",
       "count          1048575     1048575  1.048575e+06  1.048575e+06\n",
       "unique          736653       97987           NaN           NaN\n",
       "top     A3M174IC0VXOS2  B001MA0QY2           NaN           NaN\n",
       "freq               278        7533           NaN           NaN\n",
       "mean               NaN         NaN  4.176864e+00  1.345636e+09\n",
       "std                NaN         NaN  1.306543e+00  5.567113e+07\n",
       "min                NaN         NaN  1.000000e+00  9.087552e+08\n",
       "25%                NaN         NaN  4.000000e+00  1.322438e+09\n",
       "50%                NaN         NaN  5.000000e+00  1.362960e+09\n",
       "75%                NaN         NaN  5.000000e+00  1.385856e+09\n",
       "max                NaN         NaN  5.000000e+00  1.406074e+09"
      ]
     },
     "execution_count": 5,
     "metadata": {},
     "output_type": "execute_result"
    }
   ],
   "source": [
    "df.describe(include='all')"
   ]
  },
  {
   "cell_type": "code",
   "execution_count": 6,
   "metadata": {},
   "outputs": [
    {
     "data": {
      "text/plain": [
       "ProductId\n",
       "1304139212    5.000000\n",
       "1304139220    5.000000\n",
       "130414089X    5.000000\n",
       "130414643X    4.333333\n",
       "1304146537    5.000000\n",
       "Name: Rating, dtype: float64"
      ]
     },
     "execution_count": 6,
     "metadata": {},
     "output_type": "execute_result"
    }
   ],
   "source": [
    "# Mean rating for each Product\n",
    "\n",
    "product_rating = df.groupby('ProductId')['Rating'].mean()\n",
    "product_rating.head()"
   ]
  },
  {
   "cell_type": "code",
   "execution_count": 7,
   "metadata": {},
   "outputs": [
    {
     "data": {
      "text/plain": [
       "ProductId\n",
       "1304139212    1\n",
       "1304139220    1\n",
       "130414089X    1\n",
       "130414643X    3\n",
       "1304146537    1\n",
       "Name: Rating, dtype: int64"
      ]
     },
     "execution_count": 7,
     "metadata": {},
     "output_type": "execute_result"
    }
   ],
   "source": [
    "# Count of the number of ratings per Product\n",
    "\n",
    "product_rating_count = df.groupby('ProductId')['Rating'].count()\n",
    "product_rating_count.head()"
   ]
  },
  {
   "cell_type": "code",
   "execution_count": 8,
   "metadata": {},
   "outputs": [
    {
     "data": {
      "text/plain": [
       "ProductId\n",
       "1304139212    0.000000\n",
       "1304139220    0.000000\n",
       "130414089X    0.000000\n",
       "130414643X    0.408248\n",
       "1304146537    0.000000\n",
       "Name: Rating, dtype: float64"
      ]
     },
     "execution_count": 8,
     "metadata": {},
     "output_type": "execute_result"
    }
   ],
   "source": [
    "# Un-Reliability factor\n",
    "\n",
    "unreliability = df.groupby('ProductId')['Rating'].std(ddof = -1)\n",
    "unreliability.head()"
   ]
  },
  {
   "cell_type": "markdown",
   "metadata": {},
   "source": [
    "### Step 3: Check for missing values and outliers"
   ]
  },
  {
   "cell_type": "code",
   "execution_count": 9,
   "metadata": {},
   "outputs": [
    {
     "data": {
      "text/plain": [
       "UserId       0\n",
       "ProductId    0\n",
       "Rating       0\n",
       "Timestamp    0\n",
       "dtype: int64"
      ]
     },
     "execution_count": 9,
     "metadata": {},
     "output_type": "execute_result"
    }
   ],
   "source": [
    "df.isnull().sum()"
   ]
  },
  {
   "cell_type": "code",
   "execution_count": 10,
   "metadata": {},
   "outputs": [
    {
     "data": {
      "image/png": "[encoded data removed]",
      "text/plain": [
       "<matplotlib.figure.Figure at 0x27dcf2b7160>"
      ]
     },
     "metadata": {},
     "output_type": "display_data"
    }
   ],
   "source": [
    "import seaborn as sns\n",
    "sns.countplot(x='Rating',data=df)\n",
    "plt.show()"
   ]
  },
  {
   "cell_type": "code",
   "execution_count": 11,
   "metadata": {},
   "outputs": [],
   "source": [
    "def find_outliers_IQR(df):\n",
    "\n",
    "    q1=df.quantile(0.25)\n",
    "\n",
    "    q3=df.quantile(0.75)\n",
    "\n",
    "    IQR=q3-q1\n",
    "\n",
    "    outliers = df[((df<(q1-1.5*IQR)) | (df>(q3+1.5*IQR)))]\n",
    "\n",
    "    return outliers"
   ]
  },
  {
   "cell_type": "code",
   "execution_count": 12,
   "metadata": {},
   "outputs": [
    {
     "name": "stdout",
     "output_type": "stream",
     "text": [
      "number of outliers: 151374\n",
      "max outlier value: 2\n",
      "min outlier value: 1\n"
     ]
    }
   ],
   "source": [
    "#outlier for rating feature in the dataset\n",
    "\n",
    "outliers = find_outliers_IQR(df['Rating'])\n",
    "\n",
    "print(\"number of outliers: \"+ str(len(outliers)))\n",
    "\n",
    "print(\"max outlier value: \"+ str(outliers.max()))\n",
    "\n",
    "print(\"min outlier value: \"+ str(outliers.min()))\n",
    "\n"
   ]
  },
  {
   "cell_type": "code",
   "execution_count": 13,
   "metadata": {},
   "outputs": [
    {
     "name": "stdout",
     "output_type": "stream",
     "text": [
      "number of outliers: 53505\n",
      "max outlier value: 1227225600\n",
      "min outlier value: 908755200\n"
     ]
    }
   ],
   "source": [
    "#outlier for timestamp feature in dataset\n",
    "\n",
    "outliers = find_outliers_IQR(df['Timestamp'])\n",
    "\n",
    "print(\"number of outliers: \"+ str(len(outliers)))\n",
    "\n",
    "print(\"max outlier value: \"+ str(outliers.max()))\n",
    "\n",
    "print(\"min outlier value: \"+ str(outliers.min()))\n"
   ]
  },
  {
   "cell_type": "code",
   "execution_count": 14,
   "metadata": {},
   "outputs": [
    {
     "data": {
      "text/html": [
       "<div>\n",
       "<style scoped>\n",
       "    .dataframe tbody tr th:only-of-type {\n",
       "        vertical-align: middle;\n",
       "    }\n",
       "\n",
       "    .dataframe tbody tr th {\n",
       "        vertical-align: top;\n",
       "    }\n",
       "\n",
       "    .dataframe thead th {\n",
       "        text-align: right;\n",
       "    }\n",
       "</style>\n",
       "<table border=\"1\" class=\"dataframe\">\n",
       "  <thead>\n",
       "    <tr style=\"text-align: right;\">\n",
       "      <th></th>\n",
       "      <th>Count</th>\n",
       "      <th>Rating</th>\n",
       "      <th>Unreliability</th>\n",
       "    </tr>\n",
       "    <tr>\n",
       "      <th>ProductId</th>\n",
       "      <th></th>\n",
       "      <th></th>\n",
       "      <th></th>\n",
       "    </tr>\n",
       "  </thead>\n",
       "  <tbody>\n",
       "    <tr>\n",
       "      <th>205616461</th>\n",
       "      <td>1</td>\n",
       "      <td>5.0</td>\n",
       "      <td>0.000000</td>\n",
       "    </tr>\n",
       "    <tr>\n",
       "      <th>558925278</th>\n",
       "      <td>2</td>\n",
       "      <td>4.0</td>\n",
       "      <td>0.816497</td>\n",
       "    </tr>\n",
       "    <tr>\n",
       "      <th>733001998</th>\n",
       "      <td>1</td>\n",
       "      <td>4.0</td>\n",
       "      <td>0.000000</td>\n",
       "    </tr>\n",
       "    <tr>\n",
       "      <th>737104473</th>\n",
       "      <td>1</td>\n",
       "      <td>1.0</td>\n",
       "      <td>0.000000</td>\n",
       "    </tr>\n",
       "    <tr>\n",
       "      <th>762451459</th>\n",
       "      <td>1</td>\n",
       "      <td>5.0</td>\n",
       "      <td>0.000000</td>\n",
       "    </tr>\n",
       "  </tbody>\n",
       "</table>\n",
       "</div>"
      ],
      "text/plain": [
       "           Count  Rating  Unreliability\n",
       "ProductId                              \n",
       "205616461      1     5.0       0.000000\n",
       "558925278      2     4.0       0.816497\n",
       "733001998      1     4.0       0.000000\n",
       "737104473      1     1.0       0.000000\n",
       "762451459      1     5.0       0.000000"
      ]
     },
     "execution_count": 14,
     "metadata": {},
     "output_type": "execute_result"
    }
   ],
   "source": [
    "# Data frame with calculated fields and measures\n",
    "\n",
    "unique_products_list = df.ProductId.unique()\n",
    "data_model = pd.DataFrame({'Rating': product_rating[unique_products_list],\\\n",
    "                           'Count': product_rating_count[unique_products_list], \\\n",
    "                          'Unreliability': unreliability[unique_products_list]})\n",
    "data_model.head()"
   ]
  },
  {
   "cell_type": "code",
   "execution_count": 15,
   "metadata": {},
   "outputs": [
    {
     "name": "stdout",
     "output_type": "stream",
     "text": [
      "(3831, 3)\n"
     ]
    }
   ],
   "source": [
    "# Removing outliers and improbable data points\n",
    "\n",
    "data_model = data_model[data_model.Count > 50][data_model.Count < 1001].copy()\n",
    "print(data_model.shape)"
   ]
  },
  {
   "cell_type": "code",
   "execution_count": 16,
   "metadata": {},
   "outputs": [],
   "source": [
    "# Normalization function to range 0 - 10\n",
    "\n",
    "def normalize(values):\n",
    "    mn = values.min()\n",
    "    mx = values.max()\n",
    "    return(10.0/(mx - mn) * (values - mx)+10)"
   ]
  },
  {
   "cell_type": "code",
   "execution_count": 17,
   "metadata": {},
   "outputs": [
    {
     "data": {
      "text/html": [
       "<div>\n",
       "<style scoped>\n",
       "    .dataframe tbody tr th:only-of-type {\n",
       "        vertical-align: middle;\n",
       "    }\n",
       "\n",
       "    .dataframe tbody tr th {\n",
       "        vertical-align: top;\n",
       "    }\n",
       "\n",
       "    .dataframe thead th {\n",
       "        text-align: right;\n",
       "    }\n",
       "</style>\n",
       "<table border=\"1\" class=\"dataframe\">\n",
       "  <thead>\n",
       "    <tr style=\"text-align: right;\">\n",
       "      <th></th>\n",
       "      <th>Count</th>\n",
       "      <th>Rating</th>\n",
       "      <th>Unreliability</th>\n",
       "    </tr>\n",
       "    <tr>\n",
       "      <th>ProductId</th>\n",
       "      <th></th>\n",
       "      <th></th>\n",
       "      <th></th>\n",
       "    </tr>\n",
       "  </thead>\n",
       "  <tbody>\n",
       "    <tr>\n",
       "      <th>9790790961</th>\n",
       "      <td>0.201913</td>\n",
       "      <td>8.001964</td>\n",
       "      <td>5.910124</td>\n",
       "    </tr>\n",
       "    <tr>\n",
       "      <th>B00004TMFE</th>\n",
       "      <td>0.913921</td>\n",
       "      <td>5.565655</td>\n",
       "      <td>7.601756</td>\n",
       "    </tr>\n",
       "    <tr>\n",
       "      <th>B00004TUBL</th>\n",
       "      <td>5.387885</td>\n",
       "      <td>9.072359</td>\n",
       "      <td>3.356747</td>\n",
       "    </tr>\n",
       "    <tr>\n",
       "      <th>B00004TUBV</th>\n",
       "      <td>1.275239</td>\n",
       "      <td>7.994819</td>\n",
       "      <td>5.560650</td>\n",
       "    </tr>\n",
       "    <tr>\n",
       "      <th>B00004U9UY</th>\n",
       "      <td>1.009564</td>\n",
       "      <td>9.342534</td>\n",
       "      <td>2.892613</td>\n",
       "    </tr>\n",
       "  </tbody>\n",
       "</table>\n",
       "</div>"
      ],
      "text/plain": [
       "               Count    Rating  Unreliability\n",
       "ProductId                                    \n",
       "9790790961  0.201913  8.001964       5.910124\n",
       "B00004TMFE  0.913921  5.565655       7.601756\n",
       "B00004TUBL  5.387885  9.072359       3.356747\n",
       "B00004TUBV  1.275239  7.994819       5.560650\n",
       "B00004U9UY  1.009564  9.342534       2.892613"
      ]
     },
     "execution_count": 17,
     "metadata": {},
     "output_type": "execute_result"
    }
   ],
   "source": [
    "data_model_norm = normalize(data_model)\n",
    "data_model_norm.head()"
   ]
  },
  {
   "cell_type": "markdown",
   "metadata": {},
   "source": [
    "### Step 4: Apply Recommendations algorithms to the dataset"
   ]
  },
  {
   "cell_type": "code",
   "execution_count": 18,
   "metadata": {},
   "outputs": [
    {
     "name": "stdout",
     "output_type": "stream",
     "text": [
      "Data points:  [[0.20191286 8.00196383 5.91012363]\n",
      " [0.91392136 5.5656547  7.60175618]\n",
      " [5.38788523 9.07235884 3.35674656]\n",
      " ...\n",
      " [1.93411265 5.64482562 7.14440077]\n",
      " [0.12752391 8.41855571 5.44145464]\n",
      " [0.36131775 3.35061775 8.75832762]]\n",
      "\n",
      "\n",
      "Labels:  ['9790790961' 'B00004TMFE' 'B00004TUBL' ... 'B003H8180I' 'B003H87S0C'\n",
      " 'B003H897AQ']\n"
     ]
    }
   ],
   "source": [
    "# Setting up the model\n",
    "\n",
    "# Recommend 20 similar items\n",
    "from sklearn.neighbors import KNeighborsClassifier\n",
    "engine = KNeighborsClassifier(n_neighbors=20)\n",
    "\n",
    "# Training data points\n",
    "data_points = data_model_norm[['Count', 'Rating', 'Unreliability']].values\n",
    "\n",
    "#Training labels\n",
    "labels = data_model_norm.index.values\n",
    "\n",
    "print(\"Data points: \", data_points)\n",
    "print('\\n')\n",
    "print(\"Labels: \",labels)"
   ]
  },
  {
   "cell_type": "code",
   "execution_count": 19,
   "metadata": {},
   "outputs": [
    {
     "data": {
      "text/plain": [
       "KNeighborsClassifier(algorithm='auto', leaf_size=30, metric='minkowski',\n",
       "           metric_params=None, n_jobs=1, n_neighbors=20, p=2,\n",
       "           weights='uniform')"
      ]
     },
     "execution_count": 19,
     "metadata": {},
     "output_type": "execute_result"
    }
   ],
   "source": [
    "engine.fit(data_points, labels)"
   ]
  },
  {
   "cell_type": "markdown",
   "metadata": {},
   "source": [
    "### Step 5: Give recommendations and interpret your result"
   ]
  },
  {
   "cell_type": "code",
   "execution_count": 20,
   "metadata": {},
   "outputs": [
    {
     "name": "stdout",
     "output_type": "stream",
     "text": [
      "Recommended products: \n",
      "[Index(['B00004TUBL', 'B0000AFUTL', 'B002TPQPEE', 'B000NWGCZ2', 'B000ODNSR0',\n",
      "       'B0013TM9UQ', 'B000F35R00', 'B0018DAUKI', 'B001DKQ3O8', 'B001ET77NY',\n",
      "       'B000B8FW0Y', 'B00132ZG3U', 'B000OQ2DL4', 'B0030HMQTS', 'B00178TVXG',\n",
      "       'B001TJXI5U', 'B000UM2KCY', 'B000ZLVUYO', 'B002MSN3QQ', 'B000YJ2SLG'],\n",
      "      dtype='object', name='ProductId')]\n"
     ]
    }
   ],
   "source": [
    "# Enter product ID to get a list of 20 recommended items\n",
    "\n",
    "# User entered value\n",
    "product_id = 'B00004TUBL'\n",
    "\n",
    "product_data = [data_model_norm.loc[product_id][['Count', 'Rating', 'Unreliability']].values]\n",
    "\n",
    "recommended_products = engine.kneighbors(X=product_data, n_neighbors=20, return_distance=False)\n",
    "\n",
    "# List of product IDs form the indexes\n",
    "\n",
    "products_list = []\n",
    "\n",
    "for each in recommended_products:\n",
    "    products_list.append(data_model_norm.iloc[each].index)\n",
    "\n",
    "print(\"Recommended products: \")\n",
    "print(products_list)\n"
   ]
  },
  {
   "cell_type": "code",
   "execution_count": 21,
   "metadata": {},
   "outputs": [
    {
     "data": {
      "image/png": "[encoded data removed]",
      "text/plain": [
       "<matplotlib.figure.Figure at 0x27dcf3f23c8>"
      ]
     },
     "metadata": {},
     "output_type": "display_data"
    },
    {
     "data": {
      "image/png": "[encoded data removed]",
      "text/plain": [
       "<matplotlib.figure.Figure at 0x27dd0aa56a0>"
      ]
     },
     "metadata": {},
     "output_type": "display_data"
    }
   ],
   "source": [
    "# Showing recommended products\n",
    "\n",
    "ax = data_model_norm.plot(kind='scatter', x='Rating', y='Count', color='grey', alpha=0.20)\n",
    "data_model_norm.iloc[recommended_products[0]].plot(kind='scatter', x='Rating', y='Count',\\\n",
    "                                                   color='orange', alpha=0.5, ax=ax)\n",
    "\n",
    "ax2 = data_model_norm.plot(kind='scatter', x='Rating', y='Unreliability', color='grey')\n",
    "data_model_norm.iloc[recommended_products[0]].plot(kind='scatter', x='Rating', y='Unreliability',\\\n",
    "                                                   color='orange', alpha=0.5, ax=ax2)\n",
    "plt.show()\n"
   ]
  },
  {
   "cell_type": "code",
   "execution_count": null,
   "metadata": {},
   "outputs": [],
   "source": []
  }
 ],
 "metadata": {
  "kernelspec": {
   "display_name": "Python 3 (ipykernel)",
   "language": "python",
   "name": "python3"
  },
  "language_info": {
   "codemirror_mode": {
    "name": "ipython",
    "version": 3
   },
   "file_extension": ".py",
   "mimetype": "text/x-python",
   "name": "python",
   "nbconvert_exporter": "python",
   "pygments_lexer": "ipython3",
   "version": "3.9.12"
  }
 },
 "nbformat": 4,
 "nbformat_minor": 2
}
